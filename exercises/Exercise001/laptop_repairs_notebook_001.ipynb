{
 "cells": [
  {
   "cell_type": "markdown",
   "id": "67bb51fb",
   "metadata": {},
   "source": [
    "1. Import pandas and import the dataset in `repair.csv` to a DataFrame"
   ]
  },
  {
   "cell_type": "code",
   "execution_count": 1,
   "id": "047d9dc9",
   "metadata": {
    "deletable": false,
    "tags": []
   },
   "outputs": [],
   "source": [
    "import pandas as pd\n",
    "repair = pd.read_csv('repair.csv')"
   ]
  },
  {
   "cell_type": "markdown",
   "id": "079e0e0c",
   "metadata": {},
   "source": [
    "2. Display the first `5` rows of the dataset."
   ]
  },
  {
   "cell_type": "code",
   "execution_count": 2,
   "id": "b318baec",
   "metadata": {
    "deletable": false,
    "tags": []
   },
   "outputs": [
    {
     "data": {
      "text/html": [
       "<div>\n",
       "<style scoped>\n",
       "    .dataframe tbody tr th:only-of-type {\n",
       "        vertical-align: middle;\n",
       "    }\n",
       "\n",
       "    .dataframe tbody tr th {\n",
       "        vertical-align: top;\n",
       "    }\n",
       "\n",
       "    .dataframe thead th {\n",
       "        text-align: right;\n",
       "    }\n",
       "</style>\n",
       "<table border=\"1\" class=\"dataframe\">\n",
       "  <thead>\n",
       "    <tr style=\"text-align: right;\">\n",
       "      <th></th>\n",
       "      <th>country</th>\n",
       "      <th>product_category</th>\n",
       "      <th>brand</th>\n",
       "      <th>year_of_manufacture</th>\n",
       "      <th>product_age</th>\n",
       "      <th>repair_status</th>\n",
       "      <th>year_repaired</th>\n",
       "    </tr>\n",
       "  </thead>\n",
       "  <tbody>\n",
       "    <tr>\n",
       "      <th>0</th>\n",
       "      <td>gbr</td>\n",
       "      <td>aircon/dehumidifier</td>\n",
       "      <td>delonghi</td>\n",
       "      <td>2013.0</td>\n",
       "      <td>6.0</td>\n",
       "      <td>end of life</td>\n",
       "      <td>2019</td>\n",
       "    </tr>\n",
       "    <tr>\n",
       "      <th>1</th>\n",
       "      <td>nld</td>\n",
       "      <td>kettle</td>\n",
       "      <td>royal swiss</td>\n",
       "      <td>2019.0</td>\n",
       "      <td>0.0</td>\n",
       "      <td>fixed</td>\n",
       "      <td>2019</td>\n",
       "    </tr>\n",
       "    <tr>\n",
       "      <th>2</th>\n",
       "      <td>swe</td>\n",
       "      <td>mobile</td>\n",
       "      <td>apple</td>\n",
       "      <td>2015.0</td>\n",
       "      <td>3.0</td>\n",
       "      <td>repairable</td>\n",
       "      <td>2018</td>\n",
       "    </tr>\n",
       "    <tr>\n",
       "      <th>3</th>\n",
       "      <td>ita</td>\n",
       "      <td>desktop computer</td>\n",
       "      <td>dell</td>\n",
       "      <td>2011.0</td>\n",
       "      <td>10.0</td>\n",
       "      <td>fixed</td>\n",
       "      <td>2021</td>\n",
       "    </tr>\n",
       "    <tr>\n",
       "      <th>4</th>\n",
       "      <td>bel</td>\n",
       "      <td>power tool</td>\n",
       "      <td>makita</td>\n",
       "      <td>2015.0</td>\n",
       "      <td>4.0</td>\n",
       "      <td>end of life</td>\n",
       "      <td>2019</td>\n",
       "    </tr>\n",
       "  </tbody>\n",
       "</table>\n",
       "</div>"
      ],
      "text/plain": [
       "  country     product_category        brand  year_of_manufacture  product_age  \\\n",
       "0     gbr  aircon/dehumidifier     delonghi               2013.0          6.0   \n",
       "1     nld               kettle  royal swiss               2019.0          0.0   \n",
       "2     swe               mobile        apple               2015.0          3.0   \n",
       "3     ita     desktop computer         dell               2011.0         10.0   \n",
       "4     bel           power tool       makita               2015.0          4.0   \n",
       "\n",
       "  repair_status  year_repaired  \n",
       "0   end of life           2019  \n",
       "1         fixed           2019  \n",
       "2    repairable           2018  \n",
       "3         fixed           2021  \n",
       "4   end of life           2019  "
      ]
     },
     "execution_count": 2,
     "metadata": {},
     "output_type": "execute_result"
    }
   ],
   "source": [
    "repair.head(n=5)"
   ]
  },
  {
   "cell_type": "markdown",
   "id": "6a172e5e",
   "metadata": {},
   "source": [
    "3. Display the datatypes of the dataset."
   ]
  },
  {
   "cell_type": "code",
   "execution_count": 3,
   "id": "e73ed471",
   "metadata": {
    "deletable": false,
    "tags": []
   },
   "outputs": [
    {
     "data": {
      "text/plain": [
       "country                 object\n",
       "product_category        object\n",
       "brand                   object\n",
       "year_of_manufacture    float64\n",
       "product_age            float64\n",
       "repair_status           object\n",
       "year_repaired            int64\n",
       "dtype: object"
      ]
     },
     "execution_count": 3,
     "metadata": {},
     "output_type": "execute_result"
    }
   ],
   "source": [
    "repair.dtypes"
   ]
  },
  {
   "cell_type": "markdown",
   "id": "97b36fcc",
   "metadata": {},
   "source": [
    "4. Assign the list of datatypes to a variable `datatypes`"
   ]
  },
  {
   "cell_type": "code",
   "execution_count": 4,
   "id": "d43da75c",
   "metadata": {},
   "outputs": [
    {
     "data": {
      "text/plain": [
       "country                 object\n",
       "product_category        object\n",
       "brand                   object\n",
       "year_of_manufacture    float64\n",
       "product_age            float64\n",
       "repair_status           object\n",
       "year_repaired            int64\n",
       "dtype: object"
      ]
     },
     "execution_count": 4,
     "metadata": {},
     "output_type": "execute_result"
    }
   ],
   "source": [
    "datatypes = repair.dtypes\n",
    "datatypes"
   ]
  },
  {
   "cell_type": "markdown",
   "id": "7b2287ba",
   "metadata": {},
   "source": [
    "5. Create a list of the countries appearing in the first five rows"
   ]
  },
  {
   "cell_type": "code",
   "execution_count": 5,
   "id": "35b703e0",
   "metadata": {},
   "outputs": [
    {
     "data": {
      "text/html": [
       "<div>\n",
       "<style scoped>\n",
       "    .dataframe tbody tr th:only-of-type {\n",
       "        vertical-align: middle;\n",
       "    }\n",
       "\n",
       "    .dataframe tbody tr th {\n",
       "        vertical-align: top;\n",
       "    }\n",
       "\n",
       "    .dataframe thead th {\n",
       "        text-align: right;\n",
       "    }\n",
       "</style>\n",
       "<table border=\"1\" class=\"dataframe\">\n",
       "  <thead>\n",
       "    <tr style=\"text-align: right;\">\n",
       "      <th></th>\n",
       "      <th>country</th>\n",
       "    </tr>\n",
       "  </thead>\n",
       "  <tbody>\n",
       "    <tr>\n",
       "      <th>0</th>\n",
       "      <td>gbr</td>\n",
       "    </tr>\n",
       "    <tr>\n",
       "      <th>1</th>\n",
       "      <td>nld</td>\n",
       "    </tr>\n",
       "    <tr>\n",
       "      <th>2</th>\n",
       "      <td>swe</td>\n",
       "    </tr>\n",
       "    <tr>\n",
       "      <th>3</th>\n",
       "      <td>ita</td>\n",
       "    </tr>\n",
       "    <tr>\n",
       "      <th>4</th>\n",
       "      <td>bel</td>\n",
       "    </tr>\n",
       "  </tbody>\n",
       "</table>\n",
       "</div>"
      ],
      "text/plain": [
       "  country\n",
       "0     gbr\n",
       "1     nld\n",
       "2     swe\n",
       "3     ita\n",
       "4     bel"
      ]
     },
     "execution_count": 5,
     "metadata": {},
     "output_type": "execute_result"
    }
   ],
   "source": [
    "countries = repair.head()[['country']]\n",
    "countries"
   ]
  },
  {
   "cell_type": "markdown",
   "id": "17bc8ed3",
   "metadata": {},
   "source": [
    "6. The top three countries are `nld` with `21423` entries, `gbr` with `18576` entries, and `deu` with `7427` entries. Create a dictionary containing this information."
   ]
  },
  {
   "cell_type": "code",
   "execution_count": 6,
   "id": "f7881813",
   "metadata": {},
   "outputs": [
    {
     "data": {
      "text/plain": [
       "{'nld': 21423, 'gbr': 18576, 'deu': 7427}"
      ]
     },
     "execution_count": 6,
     "metadata": {},
     "output_type": "execute_result"
    }
   ],
   "source": [
    "dictionary = { 'nld' : 21423,\n",
    "              'gbr' : 18576,\n",
    "              'deu' : 7427 }\n",
    "dictionary"
   ]
  },
  {
   "cell_type": "markdown",
   "id": "2640a392",
   "metadata": {},
   "source": [
    "7. Use a pandas method to display a count of all the countries in the dataset."
   ]
  },
  {
   "cell_type": "code",
   "execution_count": 7,
   "id": "d670d773",
   "metadata": {},
   "outputs": [
    {
     "data": {
      "text/plain": [
       "country\n",
       "nld    21423\n",
       "gbr    18576\n",
       "deu     7427\n",
       "bel     5008\n",
       "can     1955\n",
       "ita     1440\n",
       "usa     1388\n",
       "fra     1177\n",
       "nor     1024\n",
       "arg      617\n",
       "esp      531\n",
       "swe      509\n",
       "aus      308\n",
       "hkg      174\n",
       "irl      156\n",
       "tun       98\n",
       "isl       91\n",
       "aut       69\n",
       "jey       56\n",
       "nzl       54\n",
       "ben        9\n",
       "twn        3\n",
       "che        1\n",
       "Name: count, dtype: int64"
      ]
     },
     "execution_count": 7,
     "metadata": {},
     "output_type": "execute_result"
    }
   ],
   "source": [
    "country_counts = repair['country'].value_counts()\n",
    "country_counts"
   ]
  },
  {
   "cell_type": "markdown",
   "id": "1fb0b64c",
   "metadata": {},
   "source": [
    "8. Modify exercise 7 to return percentages and/or to sort from smallest to largest."
   ]
  },
  {
   "cell_type": "code",
   "execution_count": 8,
   "id": "08cedf4e",
   "metadata": {},
   "outputs": [
    {
     "data": {
      "text/plain": [
       "country\n",
       "che    0.000016\n",
       "twn    0.000048\n",
       "ben    0.000145\n",
       "nzl    0.000870\n",
       "jey    0.000902\n",
       "aut    0.001111\n",
       "isl    0.001466\n",
       "tun    0.001578\n",
       "irl    0.002512\n",
       "hkg    0.002802\n",
       "aus    0.004960\n",
       "swe    0.008197\n",
       "esp    0.008552\n",
       "arg    0.009937\n",
       "nor    0.016491\n",
       "fra    0.018955\n",
       "usa    0.022353\n",
       "ita    0.023191\n",
       "can    0.031485\n",
       "bel    0.080652\n",
       "deu    0.119609\n",
       "gbr    0.299159\n",
       "nld    0.345009\n",
       "Name: proportion, dtype: float64"
      ]
     },
     "execution_count": 8,
     "metadata": {},
     "output_type": "execute_result"
    }
   ],
   "source": [
    "country_percents = repair['country'].value_counts(normalize=True, ascending=True)\n",
    "country_percents"
   ]
  },
  {
   "cell_type": "markdown",
   "id": "5fd7a68d",
   "metadata": {},
   "source": [
    "9. Use a pandas method to find the earliest `year_repaired`"
   ]
  },
  {
   "cell_type": "code",
   "execution_count": 9,
   "id": "b0061307",
   "metadata": {},
   "outputs": [
    {
     "data": {
      "text/plain": [
       "year_repaired\n",
       "1999    15\n",
       "Name: count, dtype: int64"
      ]
     },
     "execution_count": 9,
     "metadata": {},
     "output_type": "execute_result"
    }
   ],
   "source": [
    "early_year_repaired = repair['year_repaired'].value_counts(ascending=True)\n",
    "early_year_repaired.head(1)"
   ]
  },
  {
   "cell_type": "markdown",
   "id": "e012abdd",
   "metadata": {},
   "source": [
    "10. Use a pandas method to find the number of unique countries in the dataset"
   ]
  },
  {
   "cell_type": "code",
   "execution_count": 10,
   "id": "244e7140",
   "metadata": {},
   "outputs": [
    {
     "data": {
      "text/plain": [
       "count     62094\n",
       "unique       23\n",
       "top         nld\n",
       "freq      21423\n",
       "Name: country, dtype: object"
      ]
     },
     "execution_count": 10,
     "metadata": {},
     "output_type": "execute_result"
    }
   ],
   "source": [
    "unique_countries = repair['country'].describe()\n",
    "unique_countries"
   ]
  }
 ],
 "metadata": {
  "kernelspec": {
   "display_name": "Python 3 (ipykernel)",
   "language": "python",
   "name": "python3"
  },
  "language_info": {
   "codemirror_mode": {
    "name": "ipython",
    "version": 3
   },
   "file_extension": ".py",
   "mimetype": "text/x-python",
   "name": "python",
   "nbconvert_exporter": "python",
   "pygments_lexer": "ipython3",
   "version": "3.11.5"
  }
 },
 "nbformat": 4,
 "nbformat_minor": 5
}
