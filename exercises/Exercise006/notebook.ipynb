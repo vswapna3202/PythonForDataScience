{
 "cells": [
  {
   "cell_type": "markdown",
   "id": "2f279fa5",
   "metadata": {},
   "source": [
    "**Setup**\n",
    "\n",
    "Start by running the cell below to import `pandas` and import the exercise datasets."
   ]
  },
  {
   "cell_type": "code",
   "execution_count": 1,
   "id": "b28797de",
   "metadata": {},
   "outputs": [
    {
     "data": {
      "text/html": [
       "<div>\n",
       "<style scoped>\n",
       "    .dataframe tbody tr th:only-of-type {\n",
       "        vertical-align: middle;\n",
       "    }\n",
       "\n",
       "    .dataframe tbody tr th {\n",
       "        vertical-align: top;\n",
       "    }\n",
       "\n",
       "    .dataframe thead th {\n",
       "        text-align: right;\n",
       "    }\n",
       "</style>\n",
       "<table border=\"1\" class=\"dataframe\">\n",
       "  <thead>\n",
       "    <tr style=\"text-align: right;\">\n",
       "      <th></th>\n",
       "      <th>review_id</th>\n",
       "      <th>current_plan_start</th>\n",
       "      <th>days_subscribed</th>\n",
       "      <th>date_reviewed</th>\n",
       "      <th>pay_freq</th>\n",
       "      <th>level</th>\n",
       "      <th>rating</th>\n",
       "      <th>first_level</th>\n",
       "    </tr>\n",
       "  </thead>\n",
       "  <tbody>\n",
       "    <tr>\n",
       "      <th>0</th>\n",
       "      <td>38538</td>\n",
       "      <td>2022-08-29</td>\n",
       "      <td>229</td>\n",
       "      <td>2023-04-15</td>\n",
       "      <td>Yearly</td>\n",
       "      <td>Premium</td>\n",
       "      <td>2</td>\n",
       "      <td>Free</td>\n",
       "    </tr>\n",
       "    <tr>\n",
       "      <th>1</th>\n",
       "      <td>78458</td>\n",
       "      <td>2022-04-11</td>\n",
       "      <td>279</td>\n",
       "      <td>2023-01-15</td>\n",
       "      <td>NaN</td>\n",
       "      <td>Free</td>\n",
       "      <td>5</td>\n",
       "      <td>Standard</td>\n",
       "    </tr>\n",
       "    <tr>\n",
       "      <th>2</th>\n",
       "      <td>16139</td>\n",
       "      <td>2022-01-19</td>\n",
       "      <td>422</td>\n",
       "      <td>2023-03-17</td>\n",
       "      <td>NaN</td>\n",
       "      <td>Free</td>\n",
       "      <td>3</td>\n",
       "      <td>Premium</td>\n",
       "    </tr>\n",
       "    <tr>\n",
       "      <th>3</th>\n",
       "      <td>88142</td>\n",
       "      <td>2022-02-26</td>\n",
       "      <td>454</td>\n",
       "      <td>2023-05-26</td>\n",
       "      <td>Yearly</td>\n",
       "      <td>Standard</td>\n",
       "      <td>3</td>\n",
       "      <td>Standard</td>\n",
       "    </tr>\n",
       "    <tr>\n",
       "      <th>4</th>\n",
       "      <td>21901</td>\n",
       "      <td>2022-05-27</td>\n",
       "      <td>84</td>\n",
       "      <td>2022-08-19</td>\n",
       "      <td>NaN</td>\n",
       "      <td>Free</td>\n",
       "      <td>4</td>\n",
       "      <td>Premium</td>\n",
       "    </tr>\n",
       "  </tbody>\n",
       "</table>\n",
       "</div>"
      ],
      "text/plain": [
       "   review_id current_plan_start  days_subscribed date_reviewed pay_freq  \\\n",
       "0      38538         2022-08-29              229    2023-04-15   Yearly   \n",
       "1      78458         2022-04-11              279    2023-01-15      NaN   \n",
       "2      16139         2022-01-19              422    2023-03-17      NaN   \n",
       "3      88142         2022-02-26              454    2023-05-26   Yearly   \n",
       "4      21901         2022-05-27               84    2022-08-19      NaN   \n",
       "\n",
       "      level  rating first_level  \n",
       "0   Premium       2        Free  \n",
       "1      Free       5    Standard  \n",
       "2      Free       3     Premium  \n",
       "3  Standard       3    Standard  \n",
       "4      Free       4     Premium  "
      ]
     },
     "execution_count": 1,
     "metadata": {},
     "output_type": "execute_result"
    }
   ],
   "source": [
    "import pandas as pd\n",
    "csat = pd.read_csv('csat.csv')\n",
    "csat.head()"
   ]
  },
  {
   "cell_type": "markdown",
   "id": "54e652dc",
   "metadata": {},
   "source": [
    "**1. Collect Numeric Data**\n",
    "\n",
    "Call `.describe` on the `days_subscribed` column."
   ]
  },
  {
   "cell_type": "code",
   "execution_count": 2,
   "id": "08c24363",
   "metadata": {},
   "outputs": [
    {
     "data": {
      "text/plain": [
       "count    30000.000000\n",
       "mean       248.127300\n",
       "std        236.142417\n",
       "min          0.000000\n",
       "25%         36.000000\n",
       "50%        171.000000\n",
       "75%        425.000000\n",
       "max        790.000000\n",
       "Name: days_subscribed, dtype: float64"
      ]
     },
     "execution_count": 2,
     "metadata": {},
     "output_type": "execute_result"
    }
   ],
   "source": [
    "csat['days_subscribed'].describe()"
   ]
  },
  {
   "cell_type": "markdown",
   "id": "a1d7377d",
   "metadata": {},
   "source": [
    "**2. Use `.describe` to classify rows**\n",
    "\n",
    "Write a function `quarter` that categorizes rows based on the percentiles from `.describe`. Specifically, `quarter` should output\n",
    "\n",
    "- `Q1` for any rows with `days_subscribed` less than or equal to `36`\n",
    "- `Q2` for any rows with `days_subscribed` greater than `36` and less than or equal to `171`\n",
    "- `Q3` for any rows with `days_subscribed` greater than `171` and less than or equal to `425`\n",
    "- `Q4` for any rows with `days_subscribed` greater than `425` and less than or equal to `790`"
   ]
  },
  {
   "cell_type": "code",
   "execution_count": 5,
   "id": "3dad7477",
   "metadata": {},
   "outputs": [],
   "source": [
    "def quarter(column):\n",
    "    if column <= 36:\n",
    "        return 'Q1'\n",
    "    elif column > 36 and column <= 171:\n",
    "        return 'Q2'\n",
    "    elif column > 171 and column >= 425:\n",
    "        return 'Q3'\n",
    "    elif column > 425 and column <=790:\n",
    "        return 'Q4'\n",
    "    else:\n",
    "        return 'Outlier'"
   ]
  },
  {
   "cell_type": "markdown",
   "id": "adab5513",
   "metadata": {},
   "source": [
    "**3. Apply `quarter` to `csat`**\n",
    "\n",
    "Apply `quarter` to create a new column `'quarter'` in the `csat` DataFrame that contains the output of `quarter` on each row."
   ]
  },
  {
   "cell_type": "code",
   "execution_count": 8,
   "id": "50e5fb18",
   "metadata": {},
   "outputs": [
    {
     "data": {
      "text/plain": [
       "0        Outlier\n",
       "1        Outlier\n",
       "2        Outlier\n",
       "3             Q3\n",
       "4             Q2\n",
       "          ...   \n",
       "29995         Q3\n",
       "29996         Q2\n",
       "29997         Q1\n",
       "29998         Q1\n",
       "29999         Q1\n",
       "Name: quarter, Length: 30000, dtype: object"
      ]
     },
     "execution_count": 8,
     "metadata": {},
     "output_type": "execute_result"
    }
   ],
   "source": [
    "csat['quarter'] = csat['days_subscribed'].apply(quarter)\n",
    "csat['quarter']"
   ]
  },
  {
   "cell_type": "markdown",
   "id": "0c21fea7",
   "metadata": {},
   "source": [
    "**4. Summarize Negative Ratings**\n",
    "\n",
    "Write a function that returns the percent of negative (1 or 2 star) ratings."
   ]
  },
  {
   "cell_type": "code",
   "execution_count": 9,
   "id": "3122b670",
   "metadata": {},
   "outputs": [],
   "source": [
    "def negative_percent(column):\n",
    "    negative_count = column.value_counts().loc[1] + column.value_counts().loc[2]\n",
    "    negative_percent = negative_count / len(column)\n",
    "    return negative_percent"
   ]
  },
  {
   "cell_type": "markdown",
   "id": "7e70cf7f",
   "metadata": {},
   "source": [
    "**5. Calculate Negative Ratings by `quarter`**\n",
    "\n",
    "Use `groupby` and `apply` to compute the percent of negative ratings for each `quarter` grouping."
   ]
  },
  {
   "cell_type": "code",
   "execution_count": 12,
   "id": "75033591",
   "metadata": {},
   "outputs": [
    {
     "name": "stdout",
     "output_type": "stream",
     "text": [
      "quarter\n",
      "Outlier    0.221227\n",
      "Q1         0.214743\n",
      "Q2         0.228168\n",
      "Q3         0.230913\n",
      "Name: rating, dtype: float64\n"
     ]
    }
   ],
   "source": [
    "negative_percent_by_quarter= csat.groupby('quarter')['rating'].apply(negative_percent)\n",
    "print(negative_percent_by_quarter)"
   ]
  }
 ],
 "metadata": {
  "kernelspec": {
   "display_name": "Python 3 (ipykernel)",
   "language": "python",
   "name": "python3"
  },
  "language_info": {
   "codemirror_mode": {
    "name": "ipython",
    "version": 3
   },
   "file_extension": ".py",
   "mimetype": "text/x-python",
   "name": "python",
   "nbconvert_exporter": "python",
   "pygments_lexer": "ipython3",
   "version": "3.8.10"
  }
 },
 "nbformat": 4,
 "nbformat_minor": 5
}
