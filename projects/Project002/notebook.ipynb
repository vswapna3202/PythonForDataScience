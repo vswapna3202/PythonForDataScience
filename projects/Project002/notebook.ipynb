{
 "cells": [
  {
   "cell_type": "markdown",
   "metadata": {},
   "source": [
    "## Task Group 1 - Import, Inspect, and Merge"
   ]
  },
  {
   "cell_type": "markdown",
   "metadata": {},
   "source": [
    "### Task 1"
   ]
  },
  {
   "cell_type": "markdown",
   "metadata": {},
   "source": [
    "Import the **pandas** and **numpy** libraries using their standard aliases. "
   ]
  },
  {
   "cell_type": "code",
   "execution_count": 1,
   "metadata": {},
   "outputs": [],
   "source": [
    "# Import relevant libraries\n",
    "import pandas as pd\n",
    "import numpy as np"
   ]
  },
  {
   "cell_type": "markdown",
   "metadata": {},
   "source": [
    "### Task 2"
   ]
  },
  {
   "cell_type": "markdown",
   "metadata": {},
   "source": [
    "Import the CSV file `users.csv` and assign it to the variable `users`. Preview the first five rows."
   ]
  },
  {
   "cell_type": "code",
   "execution_count": 2,
   "metadata": {},
   "outputs": [
    {
     "data": {
      "text/html": [
       "<div>\n",
       "<style scoped>\n",
       "    .dataframe tbody tr th:only-of-type {\n",
       "        vertical-align: middle;\n",
       "    }\n",
       "\n",
       "    .dataframe tbody tr th {\n",
       "        vertical-align: top;\n",
       "    }\n",
       "\n",
       "    .dataframe thead th {\n",
       "        text-align: right;\n",
       "    }\n",
       "</style>\n",
       "<table border=\"1\" class=\"dataframe\">\n",
       "  <thead>\n",
       "    <tr style=\"text-align: right;\">\n",
       "      <th></th>\n",
       "      <th>user_id</th>\n",
       "      <th>timestamp</th>\n",
       "      <th>device_id</th>\n",
       "      <th>clicked</th>\n",
       "    </tr>\n",
       "  </thead>\n",
       "  <tbody>\n",
       "    <tr>\n",
       "      <th>0</th>\n",
       "      <td>U790620</td>\n",
       "      <td>2022-01-01 00:23:33 Saturday</td>\n",
       "      <td>M003</td>\n",
       "      <td>False</td>\n",
       "    </tr>\n",
       "    <tr>\n",
       "      <th>1</th>\n",
       "      <td>U584867</td>\n",
       "      <td>2022-01-01 01:30:07 Saturday</td>\n",
       "      <td>M001</td>\n",
       "      <td>False</td>\n",
       "    </tr>\n",
       "    <tr>\n",
       "      <th>2</th>\n",
       "      <td>U128681</td>\n",
       "      <td>2022-01-01 01:30:14 Saturday</td>\n",
       "      <td>M002</td>\n",
       "      <td>True</td>\n",
       "    </tr>\n",
       "    <tr>\n",
       "      <th>3</th>\n",
       "      <td>U694898</td>\n",
       "      <td>2022-01-01 01:31:55 Saturday</td>\n",
       "      <td>M003</td>\n",
       "      <td>False</td>\n",
       "    </tr>\n",
       "    <tr>\n",
       "      <th>4</th>\n",
       "      <td>U456823</td>\n",
       "      <td>2022-01-01 03:18:25 Saturday</td>\n",
       "      <td>M001</td>\n",
       "      <td>False</td>\n",
       "    </tr>\n",
       "  </tbody>\n",
       "</table>\n",
       "</div>"
      ],
      "text/plain": [
       "   user_id                     timestamp device_id  clicked\n",
       "0  U790620  2022-01-01 00:23:33 Saturday      M003    False\n",
       "1  U584867  2022-01-01 01:30:07 Saturday      M001    False\n",
       "2  U128681  2022-01-01 01:30:14 Saturday      M002     True\n",
       "3  U694898  2022-01-01 01:31:55 Saturday      M003    False\n",
       "4  U456823  2022-01-01 03:18:25 Saturday      M001    False"
      ]
     },
     "execution_count": 2,
     "metadata": {},
     "output_type": "execute_result"
    }
   ],
   "source": [
    "# Read dataset from users.csv and preview first five rows using head()\n",
    "users = pd.read_csv('users.csv')\n",
    "users.head()"
   ]
  },
  {
   "cell_type": "markdown",
   "metadata": {},
   "source": [
    "<details>\n",
    "    <summary style=\"display:list-item; font-size:16px; color:blue;\"><i>What is the structure of this dataset? Toggle to check!</i></summary>\n",
    "\n",
    "Each row in `users` corresponds to an individual session in which a user viewed an ad from a specific device and either clicked or did not click the ad.\n",
    "\n",
    "Here's a quick summary of the columns:\n",
    "\n",
    "- `user_id` - a unique identifier for each user\n",
    "- `timestamp` - the date and time the user viewed the ad in the format: `<YYYY-MM-DD HH:MM:SS day_of_week>`\n",
    "- `device_id` - a unique identifier for the device the user was using to view the ad\n",
    "- `clicked` - `True` if the user clicked on the ad, otherwise `False`\n",
    "\n",
    "</details>"
   ]
  },
  {
   "cell_type": "markdown",
   "metadata": {},
   "source": [
    "### Task 3"
   ]
  },
  {
   "cell_type": "markdown",
   "metadata": {},
   "source": [
    "Import the CSV file `advertisements.csv` and assign it to the variable `advertisements`. Preview the first five rows."
   ]
  },
  {
   "cell_type": "code",
   "execution_count": 3,
   "metadata": {},
   "outputs": [
    {
     "data": {
      "text/html": [
       "<div>\n",
       "<style scoped>\n",
       "    .dataframe tbody tr th:only-of-type {\n",
       "        vertical-align: middle;\n",
       "    }\n",
       "\n",
       "    .dataframe tbody tr th {\n",
       "        vertical-align: top;\n",
       "    }\n",
       "\n",
       "    .dataframe thead th {\n",
       "        text-align: right;\n",
       "    }\n",
       "</style>\n",
       "<table border=\"1\" class=\"dataframe\">\n",
       "  <thead>\n",
       "    <tr style=\"text-align: right;\">\n",
       "      <th></th>\n",
       "      <th>user_id</th>\n",
       "      <th>timestamp</th>\n",
       "      <th>ad_source</th>\n",
       "      <th>ad_version</th>\n",
       "    </tr>\n",
       "  </thead>\n",
       "  <tbody>\n",
       "    <tr>\n",
       "      <th>0</th>\n",
       "      <td>U790620</td>\n",
       "      <td>2022-01-01 00:23:33 Saturday</td>\n",
       "      <td>Twitter</td>\n",
       "      <td>A</td>\n",
       "    </tr>\n",
       "    <tr>\n",
       "      <th>1</th>\n",
       "      <td>U584867</td>\n",
       "      <td>2022-01-01 01:30:07 Saturday</td>\n",
       "      <td>Google</td>\n",
       "      <td>B</td>\n",
       "    </tr>\n",
       "    <tr>\n",
       "      <th>2</th>\n",
       "      <td>U128681</td>\n",
       "      <td>2022-01-01 01:30:14 Saturday</td>\n",
       "      <td>TikTok</td>\n",
       "      <td>B</td>\n",
       "    </tr>\n",
       "    <tr>\n",
       "      <th>3</th>\n",
       "      <td>U694898</td>\n",
       "      <td>2022-01-01 01:31:55 Saturday</td>\n",
       "      <td>TikTok</td>\n",
       "      <td>A</td>\n",
       "    </tr>\n",
       "    <tr>\n",
       "      <th>4</th>\n",
       "      <td>U456823</td>\n",
       "      <td>2022-01-01 03:18:25 Saturday</td>\n",
       "      <td>Google</td>\n",
       "      <td>A</td>\n",
       "    </tr>\n",
       "  </tbody>\n",
       "</table>\n",
       "</div>"
      ],
      "text/plain": [
       "   user_id                     timestamp ad_source ad_version\n",
       "0  U790620  2022-01-01 00:23:33 Saturday   Twitter          A\n",
       "1  U584867  2022-01-01 01:30:07 Saturday    Google          B\n",
       "2  U128681  2022-01-01 01:30:14 Saturday    TikTok          B\n",
       "3  U694898  2022-01-01 01:31:55 Saturday    TikTok          A\n",
       "4  U456823  2022-01-01 03:18:25 Saturday    Google          A"
      ]
     },
     "execution_count": 3,
     "metadata": {},
     "output_type": "execute_result"
    }
   ],
   "source": [
    "# Read advertisements data set from advertisements.csv \n",
    "# Preview first five rows using head()\n",
    "advertisements = pd.read_csv('advertisements.csv')\n",
    "advertisements.head()"
   ]
  },
  {
   "cell_type": "markdown",
   "metadata": {},
   "source": [
    "<details>\n",
    "    <summary style=\"display:list-item; font-size:16px; color:blue;\"><i>What is the structure of this dataset? Toggle to check!</i></summary>\n",
    "\n",
    "Each row in `advertisements` contains a more detailed breakdown of the advertisement corresponding to each user session.\n",
    "\n",
    "Here's a quick summary of the columns:\n",
    "\n",
    "- `user_id` - a unique identifier for each user\n",
    "- `timestamp` - the date and time the user viewed the ad in the format: `<YYYY-MM-DD HH:MM:SS day_of_week>`\n",
    "- `ad_source` - the social media platform the user viewed the ad on\n",
    "- `ad_version` - the version of the ad the user viewed where `A` is the original ad and `B` is the new ad\n",
    "\n",
    "</details>"
   ]
  },
  {
   "cell_type": "markdown",
   "metadata": {},
   "source": [
    "### Task 4\n",
    "\n",
    "There are two `user_id` columns, one in each DataFrame. Let's do a quick check to see if they have the same number of unique users. If they don't, we'll know to be careful about this issue later on in our analysis.\n",
    "\n",
    "Count the unique number of `user_id`s in `users` and separately in `advertisements`.\n",
    "\n",
    "Print both counts."
   ]
  },
  {
   "cell_type": "code",
   "execution_count": 4,
   "metadata": {},
   "outputs": [
    {
     "name": "stdout",
     "output_type": "stream",
     "text": [
      "Users Unique user_id count: user_id    15122\n",
      "dtype: int64\n",
      "Advertisements Unique user_id count:  user_id    14602\n",
      "dtype: int64\n"
     ]
    }
   ],
   "source": [
    "# Obtain the unique user_id counts from users and advertisements dataset and\n",
    "# print both the counts\n",
    "\n",
    "users_count = users.agg({'user_id':'nunique'})\n",
    "advertisements_count = advertisements.agg({'user_id':'nunique'})\n",
    "print(\"Users Unique user_id count:\",users_count)\n",
    "print(\"Advertisements Unique user_id count: \",advertisements_count)\n"
   ]
  },
  {
   "cell_type": "markdown",
   "metadata": {},
   "source": [
    "### Task 5"
   ]
  },
  {
   "cell_type": "markdown",
   "metadata": {},
   "source": [
    "In order to effectively analyze the results of our A/B test, we'll need rows that contain user information from both DataFrames. Specifically, we'll need to know whether or not a user `clicked` on the ad in `users` and we'll need to know which `ad_version` the user viewed in `advertisements`. \n",
    "\n",
    "Merge `users` and `advertisements` on the `user_id` and `timestamp` columns. Make sure to only return rows that have data from both DataFrames.\n",
    "\n",
    "Save the merged DataFrame to a variable named `users_ads` and preview the first five rows. "
   ]
  },
  {
   "cell_type": "code",
   "execution_count": 5,
   "metadata": {},
   "outputs": [
    {
     "data": {
      "text/html": [
       "<div>\n",
       "<style scoped>\n",
       "    .dataframe tbody tr th:only-of-type {\n",
       "        vertical-align: middle;\n",
       "    }\n",
       "\n",
       "    .dataframe tbody tr th {\n",
       "        vertical-align: top;\n",
       "    }\n",
       "\n",
       "    .dataframe thead th {\n",
       "        text-align: right;\n",
       "    }\n",
       "</style>\n",
       "<table border=\"1\" class=\"dataframe\">\n",
       "  <thead>\n",
       "    <tr style=\"text-align: right;\">\n",
       "      <th></th>\n",
       "      <th>user_id</th>\n",
       "      <th>timestamp</th>\n",
       "      <th>device_id</th>\n",
       "      <th>clicked</th>\n",
       "      <th>ad_source</th>\n",
       "      <th>ad_version</th>\n",
       "    </tr>\n",
       "  </thead>\n",
       "  <tbody>\n",
       "    <tr>\n",
       "      <th>0</th>\n",
       "      <td>U790620</td>\n",
       "      <td>2022-01-01 00:23:33 Saturday</td>\n",
       "      <td>M003</td>\n",
       "      <td>False</td>\n",
       "      <td>Twitter</td>\n",
       "      <td>A</td>\n",
       "    </tr>\n",
       "    <tr>\n",
       "      <th>1</th>\n",
       "      <td>U584867</td>\n",
       "      <td>2022-01-01 01:30:07 Saturday</td>\n",
       "      <td>M001</td>\n",
       "      <td>False</td>\n",
       "      <td>Google</td>\n",
       "      <td>B</td>\n",
       "    </tr>\n",
       "    <tr>\n",
       "      <th>2</th>\n",
       "      <td>U128681</td>\n",
       "      <td>2022-01-01 01:30:14 Saturday</td>\n",
       "      <td>M002</td>\n",
       "      <td>True</td>\n",
       "      <td>TikTok</td>\n",
       "      <td>B</td>\n",
       "    </tr>\n",
       "    <tr>\n",
       "      <th>3</th>\n",
       "      <td>U694898</td>\n",
       "      <td>2022-01-01 01:31:55 Saturday</td>\n",
       "      <td>M003</td>\n",
       "      <td>False</td>\n",
       "      <td>TikTok</td>\n",
       "      <td>A</td>\n",
       "    </tr>\n",
       "    <tr>\n",
       "      <th>4</th>\n",
       "      <td>U456823</td>\n",
       "      <td>2022-01-01 03:18:25 Saturday</td>\n",
       "      <td>M001</td>\n",
       "      <td>False</td>\n",
       "      <td>Google</td>\n",
       "      <td>A</td>\n",
       "    </tr>\n",
       "  </tbody>\n",
       "</table>\n",
       "</div>"
      ],
      "text/plain": [
       "   user_id                     timestamp device_id  clicked ad_source  \\\n",
       "0  U790620  2022-01-01 00:23:33 Saturday      M003    False   Twitter   \n",
       "1  U584867  2022-01-01 01:30:07 Saturday      M001    False    Google   \n",
       "2  U128681  2022-01-01 01:30:14 Saturday      M002     True    TikTok   \n",
       "3  U694898  2022-01-01 01:31:55 Saturday      M003    False    TikTok   \n",
       "4  U456823  2022-01-01 03:18:25 Saturday      M001    False    Google   \n",
       "\n",
       "  ad_version  \n",
       "0          A  \n",
       "1          B  \n",
       "2          B  \n",
       "3          A  \n",
       "4          A  "
      ]
     },
     "execution_count": 5,
     "metadata": {},
     "output_type": "execute_result"
    }
   ],
   "source": [
    "# Merge the dataframes of users and advertisements and include\n",
    "# rows which have data on both data frames\n",
    "users_ads = pd.merge(left=users,\n",
    "                    right=advertisements,\n",
    "                    left_on=['user_id','timestamp'],\n",
    "                    right_on=['user_id','timestamp'],\n",
    "                    how='inner'\n",
    "                    )\n",
    "users_ads.head()"
   ]
  },
  {
   "cell_type": "markdown",
   "metadata": {},
   "source": [
    "<details>\n",
    "    <summary style=\"display:list-item; font-size:16px; color:blue;\"><i>Why do we use a merge that returns matching rows from both DataFrames? Toggle to check!</i></summary>\n",
    "\n",
    "We saw in task 4 that the two DataFrames do not have the same number of unique `user_id`s, so there are some users that are missing advertisement data. Perhaps these are users who opted out of certain tracking cookies. In any case, we only want to work with users where we know which ad they saw.\n",
    "\n",
    "We'll also need to merge on multiple columns in the case where users with the same `user_id` saw the ad multiple times. By also merging with `timestamp`, we now have data from each user's individual session.\n",
    "\n",
    "</details>"
   ]
  },
  {
   "cell_type": "markdown",
   "metadata": {},
   "source": [
    "## Task Group 2 - Use Aggregations to Calculate Click-Through Rate"
   ]
  },
  {
   "cell_type": "markdown",
   "metadata": {},
   "source": [
    "### Task 6"
   ]
  },
  {
   "cell_type": "markdown",
   "metadata": {},
   "source": [
    "To begin our exploration, let's count how many times each `ad_version` was viewed by users in `users_ads`. \n",
    "\n",
    "Group `users_ads` by `ad_version` and `count` the `user_id` column. Save the result to the variable `ad_view_count`, and rename the `user_id` column `num_views`.\n",
    "\n",
    "Preview the final result."
   ]
  },
  {
   "cell_type": "code",
   "execution_count": 6,
   "metadata": {},
   "outputs": [
    {
     "data": {
      "text/html": [
       "<div>\n",
       "<style scoped>\n",
       "    .dataframe tbody tr th:only-of-type {\n",
       "        vertical-align: middle;\n",
       "    }\n",
       "\n",
       "    .dataframe tbody tr th {\n",
       "        vertical-align: top;\n",
       "    }\n",
       "\n",
       "    .dataframe thead th {\n",
       "        text-align: right;\n",
       "    }\n",
       "</style>\n",
       "<table border=\"1\" class=\"dataframe\">\n",
       "  <thead>\n",
       "    <tr style=\"text-align: right;\">\n",
       "      <th></th>\n",
       "      <th>ad_version</th>\n",
       "      <th>num_views</th>\n",
       "    </tr>\n",
       "  </thead>\n",
       "  <tbody>\n",
       "    <tr>\n",
       "      <th>0</th>\n",
       "      <td>A</td>\n",
       "      <td>7154</td>\n",
       "    </tr>\n",
       "    <tr>\n",
       "      <th>1</th>\n",
       "      <td>B</td>\n",
       "      <td>7270</td>\n",
       "    </tr>\n",
       "  </tbody>\n",
       "</table>\n",
       "</div>"
      ],
      "text/plain": [
       "  ad_version  num_views\n",
       "0          A       7154\n",
       "1          B       7270"
      ]
     },
     "execution_count": 6,
     "metadata": {},
     "output_type": "execute_result"
    }
   ],
   "source": [
    "# Count the number of times each ad_version is viewed by an user\n",
    "ad_view_count = users_ads.groupby('ad_version').agg({'user_id':'count'})\n",
    "ad_view_count.columns = ['num_views']\n",
    "ad_view_count.reset_index()"
   ]
  },
  {
   "cell_type": "markdown",
   "metadata": {},
   "source": [
    "### Task 7"
   ]
  },
  {
   "cell_type": "markdown",
   "metadata": {},
   "source": [
    "There may be instances where individual users saw the ads more than once. Let's re-do the groupby from Task 6, but adding a column with the number of unique `user_id`s for each ad.\n",
    "\n",
    "Modify `ad_view_count` to also return the count of unique users in `user_id`. Name this new column `nunique`.\n",
    "\n",
    "Preview the modified `ad_view_count`. "
   ]
  },
  {
   "cell_type": "code",
   "execution_count": 7,
   "metadata": {},
   "outputs": [
    {
     "name": "stdout",
     "output_type": "stream",
     "text": [
      "            nunique  num_views\n",
      "ad_version                    \n",
      "A              7125       7154\n",
      "B              7232       7270\n"
     ]
    }
   ],
   "source": [
    "# For each ad_version count the unique number of times the user saw the ad\n",
    "ad_view_count = users_ads.groupby('ad_version').agg({'user_id':['nunique','count']})\n",
    "ad_view_count.columns = ['nunique','num_views']\n",
    "print(ad_view_count)"
   ]
  },
  {
   "cell_type": "markdown",
   "metadata": {},
   "source": [
    "<details>\n",
    "    <summary style=\"display:list-item; font-size:16px; color:blue;\"><i>How should we address users who saw ads more than once? Toggle to check!</i></summary>\n",
    "\n",
    "Users who either saw both ad versions or one version multiple times may introduce bias to our test. For example, we might encounter **familiarity bias** in which users become more likely to click an ad they have seen more frequently.\n",
    "    \n",
    "In this case, there aren't that many repeat viewers, so we won't address the issue directly. But feel free to remove these duplicates and re-run our analysis on your own! \n",
    "\n",
    "</details>"
   ]
  },
  {
   "cell_type": "markdown",
   "metadata": {},
   "source": [
    "### Task 8"
   ]
  },
  {
   "cell_type": "markdown",
   "metadata": {},
   "source": [
    "Group by `ad_version` and compute the **percentage** of users who clicked on each ad. This metric is known as the **click-through rate (CTR)** and is widely used as a performance metric. \n",
    "\n",
    "Save the resultin DataFrame to the variable `ad_ctr_pct`.\n",
    "\n",
    "Rename the `clicked` column to `click_rate`.\n",
    "\n",
    "Preview `ad_ctr_pct`."
   ]
  },
  {
   "cell_type": "code",
   "execution_count": 8,
   "metadata": {},
   "outputs": [
    {
     "name": "stdout",
     "output_type": "stream",
     "text": [
      "            click_rate\n",
      "ad_version            \n",
      "A            12.412636\n",
      "B            19.422283\n"
     ]
    }
   ],
   "source": [
    "# For each ad_version compute the percentage of users who clicked on each \n",
    "# ad\n",
    "ad_ctr_pct = users_ads.groupby('ad_version').agg({'clicked':'mean'})*100\n",
    "ad_ctr_pct.columns = ['click_rate']\n",
    "print(ad_ctr_pct)"
   ]
  },
  {
   "cell_type": "markdown",
   "metadata": {},
   "source": [
    "<details>\n",
    "    <summary style=\"display:list-item; font-size:16px; color:blue;\"><i>What did we learn about each ad version? Toggle to check!</i></summary>\n",
    "\n",
    "Looking at results of our A/B test, we see that the new ad version `B` has a click-through rate of about 19.4% and the old ad version `A` has a click-through rate of about 12.4% (a +7% difference!). \n",
    "\n",
    "While a 7% difference may seem huge, we'll need to continue exploring the data to be more confident in our conclusions about the effectiveness of each advertisement. \n",
    "\n",
    "</details>"
   ]
  },
  {
   "cell_type": "markdown",
   "metadata": {},
   "source": [
    "## Task Group 3: Compare Ad Performances by Social Media Platform"
   ]
  },
  {
   "cell_type": "markdown",
   "metadata": {},
   "source": [
    "### Task 9\n",
    "\n",
    "Let's break down click-through rate by social media platform.\n",
    "\n",
    "Group `users_ads` by `ad_source` and `ad_version`, and compute the percent of `True` values in `clicked`.\n",
    "\n",
    "Rename the column containing the percents `ctr` and view the full resulting DataFrame."
   ]
  },
  {
   "cell_type": "code",
   "execution_count": 9,
   "metadata": {},
   "outputs": [
    {
     "name": "stdout",
     "output_type": "stream",
     "text": [
      "                           ctr\n",
      "ad_source ad_version          \n",
      "Google    A           0.128385\n",
      "          B           0.198825\n",
      "Meta      A           0.129664\n",
      "          B           0.188034\n",
      "TikTok    A           0.115819\n",
      "          B           0.202358\n",
      "Twitter   A           0.119624\n",
      "          B           0.175070\n"
     ]
    }
   ],
   "source": [
    "# For each ad_source, ad_version compute the percent of clicked\n",
    "social = users_ads.groupby(['ad_source','ad_version']).agg({'clicked':'mean'})\n",
    "social.columns = ['ctr']\n",
    "print(social)"
   ]
  },
  {
   "cell_type": "markdown",
   "metadata": {},
   "source": [
    "### Task 10"
   ]
  },
  {
   "cell_type": "markdown",
   "metadata": {},
   "source": [
    "It is a little hard to read the long-format table from Task 9.\n",
    " \n",
    "Pivot `users_ads` to create a wide-format version of this table, and name it `ad_social`.\n",
    "\n",
    "Print all rows of `ad_social`."
   ]
  },
  {
   "cell_type": "code",
   "execution_count": 10,
   "metadata": {},
   "outputs": [
    {
     "data": {
      "text/html": [
       "<div>\n",
       "<style scoped>\n",
       "    .dataframe tbody tr th:only-of-type {\n",
       "        vertical-align: middle;\n",
       "    }\n",
       "\n",
       "    .dataframe tbody tr th {\n",
       "        vertical-align: top;\n",
       "    }\n",
       "\n",
       "    .dataframe thead th {\n",
       "        text-align: right;\n",
       "    }\n",
       "</style>\n",
       "<table border=\"1\" class=\"dataframe\">\n",
       "  <thead>\n",
       "    <tr style=\"text-align: right;\">\n",
       "      <th>ad_version</th>\n",
       "      <th>A</th>\n",
       "      <th>B</th>\n",
       "    </tr>\n",
       "    <tr>\n",
       "      <th>ad_source</th>\n",
       "      <th></th>\n",
       "      <th></th>\n",
       "    </tr>\n",
       "  </thead>\n",
       "  <tbody>\n",
       "    <tr>\n",
       "      <th>Google</th>\n",
       "      <td>0.128385</td>\n",
       "      <td>0.198825</td>\n",
       "    </tr>\n",
       "    <tr>\n",
       "      <th>Meta</th>\n",
       "      <td>0.129664</td>\n",
       "      <td>0.188034</td>\n",
       "    </tr>\n",
       "    <tr>\n",
       "      <th>TikTok</th>\n",
       "      <td>0.115819</td>\n",
       "      <td>0.202358</td>\n",
       "    </tr>\n",
       "    <tr>\n",
       "      <th>Twitter</th>\n",
       "      <td>0.119624</td>\n",
       "      <td>0.175070</td>\n",
       "    </tr>\n",
       "  </tbody>\n",
       "</table>\n",
       "</div>"
      ],
      "text/plain": [
       "ad_version         A         B\n",
       "ad_source                     \n",
       "Google      0.128385  0.198825\n",
       "Meta        0.129664  0.188034\n",
       "TikTok      0.115819  0.202358\n",
       "Twitter     0.119624  0.175070"
      ]
     },
     "execution_count": 10,
     "metadata": {},
     "output_type": "execute_result"
    }
   ],
   "source": [
    "# Pivot the users_ads to have a wide-format version and rename it as \n",
    "# ad_social\n",
    "ad_social = users_ads.pivot_table(index='ad_source',\n",
    "                                 columns='ad_version',\n",
    "                                 values='clicked',\n",
    "                                 aggfunc='mean')\n",
    "ad_social"
   ]
  },
  {
   "cell_type": "markdown",
   "metadata": {},
   "source": [
    "<details>\n",
    "    <summary style=\"display:list-item; font-size:16px; color:blue;\"><i>What did we learn about the ad performances across various social media platforms? Toggle to check!</i></summary>\n",
    "\n",
    "The click-through rates for ad version `B` consistently outperformed the click-through rates for ad version `A` across all social media platforms. This is more evidence to suggest that our new ad version `B` is more effective than the old ad version `A`.  \n",
    "\n",
    "Ad version `B` performed the best on TikTok with over 20% of users clicking on the ad which might suggest that the newer advertisement was more effective towards the younger demographic that make up the majority of TikTok users. \n",
    "    \n",
    "Based on this data alone, we can't conclude whether or not the difference in ad performances across social media platforms is statistically significant. To confirm our results, we'd need to use a hypothesis test, which you can learn in our statistics courses.\n",
    "\n",
    "</details>"
   ]
  },
  {
   "cell_type": "markdown",
   "metadata": {},
   "source": [
    "## Task Group 4 - Compare Ad Performances by Tech Device"
   ]
  },
  {
   "cell_type": "markdown",
   "metadata": {},
   "source": [
    "### Task 11"
   ]
  },
  {
   "cell_type": "markdown",
   "metadata": {},
   "source": [
    "Let's now investigate the click-through rates broken down by device (cell phone, tablet, etc.)\n",
    "\n",
    "Import the CSV file `devices.csv` and assign it to the variable `devices`. Preview the full dataset.\n",
    "\n",
    "How many different devices are there?"
   ]
  },
  {
   "cell_type": "code",
   "execution_count": 11,
   "metadata": {},
   "outputs": [
    {
     "data": {
      "text/html": [
       "<div>\n",
       "<style scoped>\n",
       "    .dataframe tbody tr th:only-of-type {\n",
       "        vertical-align: middle;\n",
       "    }\n",
       "\n",
       "    .dataframe tbody tr th {\n",
       "        vertical-align: top;\n",
       "    }\n",
       "\n",
       "    .dataframe thead th {\n",
       "        text-align: right;\n",
       "    }\n",
       "</style>\n",
       "<table border=\"1\" class=\"dataframe\">\n",
       "  <thead>\n",
       "    <tr style=\"text-align: right;\">\n",
       "      <th></th>\n",
       "      <th>device_id</th>\n",
       "      <th>device_type</th>\n",
       "      <th>brand</th>\n",
       "    </tr>\n",
       "  </thead>\n",
       "  <tbody>\n",
       "    <tr>\n",
       "      <th>0</th>\n",
       "      <td>M001</td>\n",
       "      <td>Mobile</td>\n",
       "      <td>Apple</td>\n",
       "    </tr>\n",
       "    <tr>\n",
       "      <th>1</th>\n",
       "      <td>M002</td>\n",
       "      <td>Mobile</td>\n",
       "      <td>Samsung</td>\n",
       "    </tr>\n",
       "    <tr>\n",
       "      <th>2</th>\n",
       "      <td>M003</td>\n",
       "      <td>Mobile</td>\n",
       "      <td>Google</td>\n",
       "    </tr>\n",
       "    <tr>\n",
       "      <th>3</th>\n",
       "      <td>M004</td>\n",
       "      <td>Mobile</td>\n",
       "      <td>Huawei</td>\n",
       "    </tr>\n",
       "    <tr>\n",
       "      <th>4</th>\n",
       "      <td>M005</td>\n",
       "      <td>Mobile</td>\n",
       "      <td>Xiaomi</td>\n",
       "    </tr>\n",
       "    <tr>\n",
       "      <th>5</th>\n",
       "      <td>M006</td>\n",
       "      <td>Mobile</td>\n",
       "      <td>vivo</td>\n",
       "    </tr>\n",
       "    <tr>\n",
       "      <th>6</th>\n",
       "      <td>P001</td>\n",
       "      <td>PC</td>\n",
       "      <td>Apple</td>\n",
       "    </tr>\n",
       "    <tr>\n",
       "      <th>7</th>\n",
       "      <td>P002</td>\n",
       "      <td>PC</td>\n",
       "      <td>Dell</td>\n",
       "    </tr>\n",
       "    <tr>\n",
       "      <th>8</th>\n",
       "      <td>P003</td>\n",
       "      <td>PC</td>\n",
       "      <td>HP</td>\n",
       "    </tr>\n",
       "    <tr>\n",
       "      <th>9</th>\n",
       "      <td>P004</td>\n",
       "      <td>PC</td>\n",
       "      <td>ASUS</td>\n",
       "    </tr>\n",
       "    <tr>\n",
       "      <th>10</th>\n",
       "      <td>P005</td>\n",
       "      <td>PC</td>\n",
       "      <td>Lenovo</td>\n",
       "    </tr>\n",
       "    <tr>\n",
       "      <th>11</th>\n",
       "      <td>P006</td>\n",
       "      <td>PC</td>\n",
       "      <td>Other</td>\n",
       "    </tr>\n",
       "    <tr>\n",
       "      <th>12</th>\n",
       "      <td>S001</td>\n",
       "      <td>Smartwatch</td>\n",
       "      <td>Apple</td>\n",
       "    </tr>\n",
       "    <tr>\n",
       "      <th>13</th>\n",
       "      <td>S002</td>\n",
       "      <td>Smartwatch</td>\n",
       "      <td>Samsung</td>\n",
       "    </tr>\n",
       "    <tr>\n",
       "      <th>14</th>\n",
       "      <td>S003</td>\n",
       "      <td>Smartwatch</td>\n",
       "      <td>FitBit</td>\n",
       "    </tr>\n",
       "    <tr>\n",
       "      <th>15</th>\n",
       "      <td>ST01</td>\n",
       "      <td>Streaming</td>\n",
       "      <td>Roku</td>\n",
       "    </tr>\n",
       "    <tr>\n",
       "      <th>16</th>\n",
       "      <td>ST02</td>\n",
       "      <td>Streaming</td>\n",
       "      <td>Apple TV</td>\n",
       "    </tr>\n",
       "    <tr>\n",
       "      <th>17</th>\n",
       "      <td>ST03</td>\n",
       "      <td>Streaming</td>\n",
       "      <td>Gaming Console</td>\n",
       "    </tr>\n",
       "    <tr>\n",
       "      <th>18</th>\n",
       "      <td>T001</td>\n",
       "      <td>Tablet</td>\n",
       "      <td>Apple</td>\n",
       "    </tr>\n",
       "    <tr>\n",
       "      <th>19</th>\n",
       "      <td>T002</td>\n",
       "      <td>Tablet</td>\n",
       "      <td>Samsung</td>\n",
       "    </tr>\n",
       "    <tr>\n",
       "      <th>20</th>\n",
       "      <td>T003</td>\n",
       "      <td>Tablet</td>\n",
       "      <td>Amazon</td>\n",
       "    </tr>\n",
       "    <tr>\n",
       "      <th>21</th>\n",
       "      <td>T004</td>\n",
       "      <td>Tablet</td>\n",
       "      <td>Microsoft</td>\n",
       "    </tr>\n",
       "  </tbody>\n",
       "</table>\n",
       "</div>"
      ],
      "text/plain": [
       "   device_id device_type           brand\n",
       "0       M001      Mobile           Apple\n",
       "1       M002      Mobile         Samsung\n",
       "2       M003      Mobile          Google\n",
       "3       M004      Mobile          Huawei\n",
       "4       M005      Mobile          Xiaomi\n",
       "5       M006      Mobile            vivo\n",
       "6       P001          PC           Apple\n",
       "7       P002          PC            Dell\n",
       "8       P003          PC              HP\n",
       "9       P004          PC            ASUS\n",
       "10      P005          PC          Lenovo\n",
       "11      P006          PC           Other\n",
       "12      S001  Smartwatch           Apple\n",
       "13      S002  Smartwatch         Samsung\n",
       "14      S003  Smartwatch          FitBit\n",
       "15      ST01   Streaming            Roku\n",
       "16      ST02   Streaming        Apple TV\n",
       "17      ST03   Streaming  Gaming Console\n",
       "18      T001      Tablet           Apple\n",
       "19      T002      Tablet         Samsung\n",
       "20      T003      Tablet          Amazon\n",
       "21      T004      Tablet       Microsoft"
      ]
     },
     "execution_count": 11,
     "metadata": {},
     "output_type": "execute_result"
    }
   ],
   "source": [
    "# Import the devices dataset and preview the dataset\n",
    "devices = pd.read_csv('devices.csv')\n",
    "devices\n",
    "# There are 5 types of devices - Mobile, PC, Smartwatch, Streaming, Tablet\n",
    "# and there are 22 devices"
   ]
  },
  {
   "cell_type": "markdown",
   "metadata": {},
   "source": [
    "<details>\n",
    "    <summary style=\"display:list-item; font-size:16px; color:blue;\"><i>What is the structure of this dataset? Toggle to check!</i></summary>\n",
    "\n",
    "There are 22 different devices in the data. \n",
    "\n",
    "Here's a quick summary of the columns:\n",
    "\n",
    "- `device_id` - a unique identifier of the device\n",
    "- `device_type` - the type of device\n",
    "- `brand` - the brand of the device\n",
    "\n",
    "</details>"
   ]
  },
  {
   "cell_type": "markdown",
   "metadata": {},
   "source": [
    "### Task 12"
   ]
  },
  {
   "cell_type": "markdown",
   "metadata": {},
   "source": [
    "Let's now combine each user's ad information with their device information. \n",
    "\n",
    "Merge `users_ads` with `devices` using the `device_id` column. Make sure to return all of the rows in `users_ads`, along with matching device information if it exists.\n",
    "\n",
    "Name the merged DataFrame `users_devices` and preview the first five rows."
   ]
  },
  {
   "cell_type": "code",
   "execution_count": 12,
   "metadata": {},
   "outputs": [
    {
     "data": {
      "text/html": [
       "<div>\n",
       "<style scoped>\n",
       "    .dataframe tbody tr th:only-of-type {\n",
       "        vertical-align: middle;\n",
       "    }\n",
       "\n",
       "    .dataframe tbody tr th {\n",
       "        vertical-align: top;\n",
       "    }\n",
       "\n",
       "    .dataframe thead th {\n",
       "        text-align: right;\n",
       "    }\n",
       "</style>\n",
       "<table border=\"1\" class=\"dataframe\">\n",
       "  <thead>\n",
       "    <tr style=\"text-align: right;\">\n",
       "      <th></th>\n",
       "      <th>user_id</th>\n",
       "      <th>timestamp</th>\n",
       "      <th>device_id</th>\n",
       "      <th>clicked</th>\n",
       "      <th>ad_source</th>\n",
       "      <th>ad_version</th>\n",
       "      <th>device_type</th>\n",
       "      <th>brand</th>\n",
       "    </tr>\n",
       "  </thead>\n",
       "  <tbody>\n",
       "    <tr>\n",
       "      <th>0</th>\n",
       "      <td>U790620</td>\n",
       "      <td>2022-01-01 00:23:33 Saturday</td>\n",
       "      <td>M003</td>\n",
       "      <td>False</td>\n",
       "      <td>Twitter</td>\n",
       "      <td>A</td>\n",
       "      <td>Mobile</td>\n",
       "      <td>Google</td>\n",
       "    </tr>\n",
       "    <tr>\n",
       "      <th>1</th>\n",
       "      <td>U584867</td>\n",
       "      <td>2022-01-01 01:30:07 Saturday</td>\n",
       "      <td>M001</td>\n",
       "      <td>False</td>\n",
       "      <td>Google</td>\n",
       "      <td>B</td>\n",
       "      <td>Mobile</td>\n",
       "      <td>Apple</td>\n",
       "    </tr>\n",
       "    <tr>\n",
       "      <th>2</th>\n",
       "      <td>U128681</td>\n",
       "      <td>2022-01-01 01:30:14 Saturday</td>\n",
       "      <td>M002</td>\n",
       "      <td>True</td>\n",
       "      <td>TikTok</td>\n",
       "      <td>B</td>\n",
       "      <td>Mobile</td>\n",
       "      <td>Samsung</td>\n",
       "    </tr>\n",
       "    <tr>\n",
       "      <th>3</th>\n",
       "      <td>U694898</td>\n",
       "      <td>2022-01-01 01:31:55 Saturday</td>\n",
       "      <td>M003</td>\n",
       "      <td>False</td>\n",
       "      <td>TikTok</td>\n",
       "      <td>A</td>\n",
       "      <td>Mobile</td>\n",
       "      <td>Google</td>\n",
       "    </tr>\n",
       "    <tr>\n",
       "      <th>4</th>\n",
       "      <td>U456823</td>\n",
       "      <td>2022-01-01 03:18:25 Saturday</td>\n",
       "      <td>M001</td>\n",
       "      <td>False</td>\n",
       "      <td>Google</td>\n",
       "      <td>A</td>\n",
       "      <td>Mobile</td>\n",
       "      <td>Apple</td>\n",
       "    </tr>\n",
       "  </tbody>\n",
       "</table>\n",
       "</div>"
      ],
      "text/plain": [
       "   user_id                     timestamp device_id  clicked ad_source  \\\n",
       "0  U790620  2022-01-01 00:23:33 Saturday      M003    False   Twitter   \n",
       "1  U584867  2022-01-01 01:30:07 Saturday      M001    False    Google   \n",
       "2  U128681  2022-01-01 01:30:14 Saturday      M002     True    TikTok   \n",
       "3  U694898  2022-01-01 01:31:55 Saturday      M003    False    TikTok   \n",
       "4  U456823  2022-01-01 03:18:25 Saturday      M001    False    Google   \n",
       "\n",
       "  ad_version device_type    brand  \n",
       "0          A      Mobile   Google  \n",
       "1          B      Mobile    Apple  \n",
       "2          B      Mobile  Samsung  \n",
       "3          A      Mobile   Google  \n",
       "4          A      Mobile    Apple  "
      ]
     },
     "execution_count": 12,
     "metadata": {},
     "output_type": "execute_result"
    }
   ],
   "source": [
    "# Merge users_ads with devices using the device_id column and return all\n",
    "# rows of users_ads if matching device information exists\n",
    "users_devices = pd.merge(left=users_ads,\n",
    "         right=devices,\n",
    "         left_on='device_id',\n",
    "         right_on='device_id',\n",
    "         how='left')\n",
    "users_devices.head()"
   ]
  },
  {
   "cell_type": "markdown",
   "metadata": {},
   "source": [
    "### Task 13"
   ]
  },
  {
   "cell_type": "markdown",
   "metadata": {},
   "source": [
    "Calculate the percentage of users who clicked on the advertisement based on their `device_type` and `ad_version` they viewed."
   ]
  },
  {
   "cell_type": "code",
   "execution_count": 13,
   "metadata": {},
   "outputs": [
    {
     "data": {
      "text/html": [
       "<div>\n",
       "<style scoped>\n",
       "    .dataframe tbody tr th:only-of-type {\n",
       "        vertical-align: middle;\n",
       "    }\n",
       "\n",
       "    .dataframe tbody tr th {\n",
       "        vertical-align: top;\n",
       "    }\n",
       "\n",
       "    .dataframe thead th {\n",
       "        text-align: right;\n",
       "    }\n",
       "</style>\n",
       "<table border=\"1\" class=\"dataframe\">\n",
       "  <thead>\n",
       "    <tr style=\"text-align: right;\">\n",
       "      <th>ad_version</th>\n",
       "      <th>A</th>\n",
       "      <th>B</th>\n",
       "    </tr>\n",
       "    <tr>\n",
       "      <th>device_type</th>\n",
       "      <th></th>\n",
       "      <th></th>\n",
       "    </tr>\n",
       "  </thead>\n",
       "  <tbody>\n",
       "    <tr>\n",
       "      <th>Mobile</th>\n",
       "      <td>0.121057</td>\n",
       "      <td>0.215877</td>\n",
       "    </tr>\n",
       "    <tr>\n",
       "      <th>PC</th>\n",
       "      <td>0.121311</td>\n",
       "      <td>0.182425</td>\n",
       "    </tr>\n",
       "    <tr>\n",
       "      <th>Tablet</th>\n",
       "      <td>0.128315</td>\n",
       "      <td>0.171348</td>\n",
       "    </tr>\n",
       "  </tbody>\n",
       "</table>\n",
       "</div>"
      ],
      "text/plain": [
       "ad_version          A         B\n",
       "device_type                    \n",
       "Mobile       0.121057  0.215877\n",
       "PC           0.121311  0.182425\n",
       "Tablet       0.128315  0.171348"
      ]
     },
     "execution_count": 13,
     "metadata": {},
     "output_type": "execute_result"
    }
   ],
   "source": [
    "# Calculate percent of users who clicked on ads based on their device_type \n",
    "# and ad_version\n",
    "ad_devices = pd.pivot_table(users_devices,\n",
    "               index='device_type',\n",
    "               columns='ad_version',\n",
    "               values='clicked',\n",
    "               aggfunc='mean')\n",
    "ad_devices.head()"
   ]
  },
  {
   "cell_type": "markdown",
   "metadata": {},
   "source": [
    "<details>\n",
    "    <summary style=\"display:list-item; font-size:16px; color:blue;\"><i>What did we learn about the ad performances across tech devices? Toggle to check!</i></summary>\n",
    "\n",
    "Once again, the click-through rates for ad version `B` consistently outperformed the click-through rates for ad version `A` across all tech devices. This is even more evidence to suggest that our new ad version `B` is more effective than the old ad version `A`.  \n",
    "\n",
    "Interestingly, it looks like ad version `B` was more effective towards mobile users compared to PC and tablet users. Recall that TikTok was also particularly well-represented in click-throughs.\n",
    "\n",
    "</details>"
   ]
  },
  {
   "cell_type": "markdown",
   "metadata": {},
   "source": [
    "## Task Group 5 - Weekday and Weekend Performance by Device Type"
   ]
  },
  {
   "cell_type": "markdown",
   "metadata": {},
   "source": [
    "### Task 14"
   ]
  },
  {
   "cell_type": "markdown",
   "metadata": {},
   "source": [
    "Let's break our analysis down further by weekday versus weekend user behavior. \n",
    "\n",
    "There are various approaches we could use to explore this question, but let's practice using the **split-apply-combine (SAC)**  technique.\n",
    "\n",
    "Recall, SAC involves a three-step process where we:\n",
    "1. **Split** the dataset into one or more pieces\n",
    "2. **Apply** a function or transformation to each piece\n",
    "3. **Combine** the results from each piece\n",
    "\n",
    "We've provided starter code below that creates a new column `day_of_week` extracted from the `timestamp` column indicating the day on which the user viewed the ad.\n",
    "\n",
    "Count the number of users who viewed each ad, grouped by the day of the week and the ad version they saw."
   ]
  },
  {
   "cell_type": "code",
   "execution_count": 14,
   "metadata": {},
   "outputs": [
    {
     "data": {
      "text/html": [
       "<div>\n",
       "<style scoped>\n",
       "    .dataframe tbody tr th:only-of-type {\n",
       "        vertical-align: middle;\n",
       "    }\n",
       "\n",
       "    .dataframe tbody tr th {\n",
       "        vertical-align: top;\n",
       "    }\n",
       "\n",
       "    .dataframe thead th {\n",
       "        text-align: right;\n",
       "    }\n",
       "</style>\n",
       "<table border=\"1\" class=\"dataframe\">\n",
       "  <thead>\n",
       "    <tr style=\"text-align: right;\">\n",
       "      <th></th>\n",
       "      <th></th>\n",
       "      <th>user_id</th>\n",
       "    </tr>\n",
       "    <tr>\n",
       "      <th>day_of_week</th>\n",
       "      <th>ad_version</th>\n",
       "      <th></th>\n",
       "    </tr>\n",
       "  </thead>\n",
       "  <tbody>\n",
       "    <tr>\n",
       "      <th rowspan=\"2\" valign=\"top\">Friday</th>\n",
       "      <th>A</th>\n",
       "      <td>1061</td>\n",
       "    </tr>\n",
       "    <tr>\n",
       "      <th>B</th>\n",
       "      <td>1061</td>\n",
       "    </tr>\n",
       "    <tr>\n",
       "      <th rowspan=\"2\" valign=\"top\">Monday</th>\n",
       "      <th>A</th>\n",
       "      <td>1014</td>\n",
       "    </tr>\n",
       "    <tr>\n",
       "      <th>B</th>\n",
       "      <td>1037</td>\n",
       "    </tr>\n",
       "    <tr>\n",
       "      <th rowspan=\"2\" valign=\"top\">Saturday</th>\n",
       "      <th>A</th>\n",
       "      <td>1045</td>\n",
       "    </tr>\n",
       "    <tr>\n",
       "      <th>B</th>\n",
       "      <td>996</td>\n",
       "    </tr>\n",
       "    <tr>\n",
       "      <th rowspan=\"2\" valign=\"top\">Sunday</th>\n",
       "      <th>A</th>\n",
       "      <td>979</td>\n",
       "    </tr>\n",
       "    <tr>\n",
       "      <th>B</th>\n",
       "      <td>1057</td>\n",
       "    </tr>\n",
       "    <tr>\n",
       "      <th rowspan=\"2\" valign=\"top\">Thursday</th>\n",
       "      <th>A</th>\n",
       "      <td>1018</td>\n",
       "    </tr>\n",
       "    <tr>\n",
       "      <th>B</th>\n",
       "      <td>997</td>\n",
       "    </tr>\n",
       "    <tr>\n",
       "      <th rowspan=\"2\" valign=\"top\">Tuesday</th>\n",
       "      <th>A</th>\n",
       "      <td>991</td>\n",
       "    </tr>\n",
       "    <tr>\n",
       "      <th>B</th>\n",
       "      <td>1068</td>\n",
       "    </tr>\n",
       "    <tr>\n",
       "      <th rowspan=\"2\" valign=\"top\">Wednesday</th>\n",
       "      <th>A</th>\n",
       "      <td>1046</td>\n",
       "    </tr>\n",
       "    <tr>\n",
       "      <th>B</th>\n",
       "      <td>1054</td>\n",
       "    </tr>\n",
       "  </tbody>\n",
       "</table>\n",
       "</div>"
      ],
      "text/plain": [
       "                        user_id\n",
       "day_of_week ad_version         \n",
       "Friday      A              1061\n",
       "            B              1061\n",
       "Monday      A              1014\n",
       "            B              1037\n",
       "Saturday    A              1045\n",
       "            B               996\n",
       "Sunday      A               979\n",
       "            B              1057\n",
       "Thursday    A              1018\n",
       "            B               997\n",
       "Tuesday     A               991\n",
       "            B              1068\n",
       "Wednesday   A              1046\n",
       "            B              1054"
      ]
     },
     "execution_count": 14,
     "metadata": {},
     "output_type": "execute_result"
    }
   ],
   "source": [
    "# Create 'day_of_week' column\n",
    "users_devices['day_of_week'] = users_devices['timestamp'].str.split(' ', expand=True)[2]\n",
    "\n",
    "## YOUR SOLUTION HERE\n",
    "# Group users_devices based on day_of_week and ad_version and count number of \n",
    "# users who viewed the ad\n",
    "users_day = users_devices.groupby(['day_of_week','ad_version']).agg({'user_id':'count'})\n",
    "users_day"
   ]
  },
  {
   "cell_type": "markdown",
   "metadata": {},
   "source": [
    "### Task 15"
   ]
  },
  {
   "cell_type": "markdown",
   "metadata": {},
   "source": [
    "**Split** `users_devices` into two DataFrames:\n",
    "- `weekends` filtering for users who saw either ad on Saturday or Sunday\n",
    "- `weekdays` filtering for users who saw either ad from Monday to Friday\n",
    "\n",
    "Use the `|` operator, and see the hint for more of a refresher on Boolean masks!\n",
    "\n",
    "Preview the first five rows in `weekdays`."
   ]
  },
  {
   "cell_type": "code",
   "execution_count": 15,
   "metadata": {},
   "outputs": [
    {
     "name": "stdout",
     "output_type": "stream",
     "text": [
      "    user_id                   timestamp device_id  clicked ad_source  \\\n",
      "72  U532019  2022-01-03 00:01:43 Monday      M004    False      Meta   \n",
      "73  U204646  2022-01-03 00:04:32 Monday      M001    False    Google   \n",
      "74  U484678  2022-01-03 00:10:18 Monday      M003    False      Meta   \n",
      "75  U676966  2022-01-03 00:39:32 Monday      M002     True    Google   \n",
      "76  U145580  2022-01-03 00:45:24 Monday      M001    False    Google   \n",
      "\n",
      "   ad_version device_type    brand day_of_week  \n",
      "72          B      Mobile   Huawei      Monday  \n",
      "73          A      Mobile    Apple      Monday  \n",
      "74          A      Mobile   Google      Monday  \n",
      "75          B      Mobile  Samsung      Monday  \n",
      "76          A      Mobile    Apple      Monday  \n"
     ]
    }
   ],
   "source": [
    "# From the users_devices split the data into weekends and weekdays\n",
    "is_weekend = (users_devices['day_of_week'] == 'Saturday') | (users_devices['day_of_week'] == 'Sunday')\n",
    "weekends = users_devices[is_weekend]\n",
    "weekdays = users_devices[~is_weekend]\n",
    "print(weekdays.head())"
   ]
  },
  {
   "cell_type": "markdown",
   "metadata": {},
   "source": [
    "### Task 16"
   ]
  },
  {
   "cell_type": "markdown",
   "metadata": {},
   "source": [
    "**Apply** aggregation functions.\n",
    "\n",
    "Create a new DataFrame `weekday_ctr` that computes\n",
    "\n",
    "- the total number of views on weekdays\n",
    "- the percent of clicks on weekdays\n",
    "\n",
    "grouped by `device_type` and `ad_version`.\n",
    "\n",
    "Name the two columns `weekday_views` and `weekday_rate`, and then reset the index of the DataFrame `weekday_ctr`.\n",
    "\n",
    "Print the full `weekday_ctr` DataFrame."
   ]
  },
  {
   "cell_type": "code",
   "execution_count": 16,
   "metadata": {},
   "outputs": [
    {
     "name": "stdout",
     "output_type": "stream",
     "text": [
      "                        weekday_views  weekday_rate\n",
      "device_type ad_version                             \n",
      "Mobile      A                    2517      0.125944\n",
      "            B                    2594      0.212799\n",
      "PC          A                    1309      0.128342\n",
      "            B                    1285      0.189105\n",
      "Tablet      A                    1009      0.142716\n",
      "            B                    1012      0.164032\n"
     ]
    }
   ],
   "source": [
    "# Compute the total number of viewers who viewed on weekdays and percent\n",
    "# of clicks\n",
    "weekday_ctr = weekdays.groupby(['device_type',\n",
    "                                'ad_version']).agg(\n",
    "                                {\n",
    "                                'user_id':'count',\n",
    "                                'clicked':'mean'\n",
    "                                }\n",
    "                                )\n",
    "weekday_ctr.columns = ['weekday_views','weekday_rate']\n",
    "weekday_ctr.reset_index()\n",
    "print(weekday_ctr)"
   ]
  },
  {
   "cell_type": "markdown",
   "metadata": {},
   "source": [
    "### Task 17\n",
    "\n",
    "Create a new DataFrame `weekend_ctr` that computes\n",
    "\n",
    "- the total number of clicks on weekends\n",
    "- the percent of clicks on weekends\n",
    "\n",
    "grouped by `device_type` and `ad_version`.\n",
    "\n",
    "Name the two columns `weekend_views` and `weekend_rate`, and then reset the index of the DataFrame `weekend_ctr`.\n",
    "\n",
    "Print the full `weekend_ctr` DataFrame."
   ]
  },
  {
   "cell_type": "code",
   "execution_count": 17,
   "metadata": {},
   "outputs": [
    {
     "name": "stdout",
     "output_type": "stream",
     "text": [
      "                        weekend_views  weekend_rate\n",
      "device_type ad_version                             \n",
      "Mobile      A                    1002      0.108782\n",
      "            B                     996      0.223896\n",
      "PC          A                     521      0.103647\n",
      "            B                     513      0.165692\n",
      "Tablet      A                     386      0.090674\n",
      "            B                     412      0.189320\n"
     ]
    }
   ],
   "source": [
    "# Compute the total number of viewers who viewed on weekends and percent\n",
    "# of clicks\n",
    "weekend_ctr = weekends.groupby(['device_type',\n",
    "                                'ad_version']).agg(\n",
    "                                {'user_id':'count',\n",
    "                                 'clicked':'mean'\n",
    "                                })\n",
    "weekend_ctr.columns = ['weekend_views','weekend_rate']\n",
    "print(weekend_ctr)"
   ]
  },
  {
   "cell_type": "markdown",
   "metadata": {},
   "source": [
    "### Task 18"
   ]
  },
  {
   "cell_type": "markdown",
   "metadata": {},
   "source": [
    "**Combine** `weekday_ctr` and `weekend_ctr` by merging on the `device_type` and `ad_version` columns into a DataFrame named `combined_ctr`. Make sure to return matching rows from both DataFrames.\n",
    "\n",
    "Preview all of the click-through rates in `combined_ctr`."
   ]
  },
  {
   "cell_type": "code",
   "execution_count": 18,
   "metadata": {},
   "outputs": [
    {
     "name": "stdout",
     "output_type": "stream",
     "text": [
      "                        weekday_views  weekday_rate  weekend_views  \\\n",
      "device_type ad_version                                               \n",
      "Mobile      A                    2517      0.125944           1002   \n",
      "            B                    2594      0.212799            996   \n",
      "PC          A                    1309      0.128342            521   \n",
      "            B                    1285      0.189105            513   \n",
      "Tablet      A                    1009      0.142716            386   \n",
      "            B                    1012      0.164032            412   \n",
      "\n",
      "                        weekend_rate  \n",
      "device_type ad_version                \n",
      "Mobile      A               0.108782  \n",
      "            B               0.223896  \n",
      "PC          A               0.103647  \n",
      "            B               0.165692  \n",
      "Tablet      A               0.090674  \n",
      "            B               0.189320  \n"
     ]
    }
   ],
   "source": [
    "# Merge the data for weekdays and weekends and return matching rows if data \n",
    "# exists in both dataframes.\n",
    "combined_ctr = pd.merge(left=weekday_ctr,\n",
    "         right=weekend_ctr,\n",
    "         left_on=['device_type','ad_version'],\n",
    "         right_on=['device_type','ad_version'],\n",
    "         how='inner')\n",
    "print(combined_ctr)"
   ]
  },
  {
   "cell_type": "markdown",
   "metadata": {},
   "source": [
    "## Task 19\n",
    "\n",
    "It looks like there are more weekday views overall, which we'd expect, but let's see if the average views per day changes from weekend to weekday.\n",
    "\n",
    "Modify `weekday_views` and `weekend_views` in `combined_ctr` to display the average number of clicks per day."
   ]
  },
  {
   "cell_type": "code",
   "execution_count": 19,
   "metadata": {},
   "outputs": [
    {
     "name": "stdout",
     "output_type": "stream",
     "text": [
      "                        weekday_views  weekday_rate  weekend_views  \\\n",
      "device_type ad_version                                               \n",
      "Mobile      A                   503.4      0.125944          501.0   \n",
      "            B                   518.8      0.212799          498.0   \n",
      "PC          A                   261.8      0.128342          260.5   \n",
      "            B                   257.0      0.189105          256.5   \n",
      "Tablet      A                   201.8      0.142716          193.0   \n",
      "            B                   202.4      0.164032          206.0   \n",
      "\n",
      "                        weekend_rate  \n",
      "device_type ad_version                \n",
      "Mobile      A               0.108782  \n",
      "            B               0.223896  \n",
      "PC          A               0.103647  \n",
      "            B               0.165692  \n",
      "Tablet      A               0.090674  \n",
      "            B               0.189320  \n"
     ]
    }
   ],
   "source": [
    "# Modify weekday_views and weekend_views in combined_ctr to display\n",
    "# average number of clicks per day\n",
    "combined_ctr['weekday_views']=combined_ctr['weekday_views']/5\n",
    "combined_ctr['weekend_views']=combined_ctr['weekend_views']/2\n",
    "print(combined_ctr)\n",
    "# As can be seen ad B is viewed more than ad A so it makes sense to market\n",
    "# ad B"
   ]
  },
  {
   "cell_type": "markdown",
   "metadata": {},
   "source": [
    "<details>\n",
    "    <summary style=\"display:list-item; font-size:16px; color:blue;\"><i>What did we learn about the ad performances on weekdays and weekends? Toggle to check!</i></summary>\n",
    "\n",
    "Again we see that the click-through rates for ad version `B` consistently outperformed the click-through rates for ad version `A` across all tech devices regardless of whether or not it was on a weekday or weekend.\n",
    "    \n",
    "In fact, it seems as though there's no real difference in views on weekends versus weekdays, so for the same number of views we are just getting an increased number of clicks on the weekends.\n",
    "\n",
    "Interestingly, ad version `A` underperformed on weekends compared to weekdays across all device types but the performance of ad version `B` remained relatively similar. This is further evidence to suggest that version `B` is a more effective ad than version `A` because of its consistent performance throughout the week. \n",
    "\n",
    "Considering the overall analysis of the click-through rate performances of the two different ads, which version do you think we should continue marketing with? Version `A` or `B`??\n",
    "\n",
    "</details>"
   ]
  },
  {
   "cell_type": "markdown",
   "metadata": {},
   "source": [
    "So that's the end of the the project comparing ad performances using A/B test data. There's so much more to discover in this dataset like the click-through rates of individual days, months, or even the brand of each device. Feel free to add more cells below and continue exploring! Happy coding!"
   ]
  }
 ],
 "metadata": {
  "kernelspec": {
   "display_name": "Python 3 (ipykernel)",
   "language": "python",
   "name": "python3"
  },
  "language_info": {
   "codemirror_mode": {
    "name": "ipython",
    "version": 3
   },
   "file_extension": ".py",
   "mimetype": "text/x-python",
   "name": "python",
   "nbconvert_exporter": "python",
   "pygments_lexer": "ipython3",
   "version": "3.11.5"
  },
  "vscode": {
   "interpreter": {
    "hash": "309216611941becf9925be7ac3912671b340e0beea225aa90b8e863000503aea"
   }
  }
 },
 "nbformat": 4,
 "nbformat_minor": 2
}
