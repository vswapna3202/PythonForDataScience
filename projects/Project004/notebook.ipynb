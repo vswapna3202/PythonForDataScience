{
 "cells": [
  {
   "cell_type": "markdown",
   "id": "7dcd6a3b",
   "metadata": {},
   "source": [
    "## Task Group 1 - Import and Inspect"
   ]
  },
  {
   "cell_type": "markdown",
   "id": "c4d5722a",
   "metadata": {},
   "source": [
    "### Task 1\n",
    "\n",
    "Import the CSV file `internet.csv` and assign it to the variable `internet`. Preview the first few rows."
   ]
  },
  {
   "cell_type": "code",
   "execution_count": 1,
   "id": "752462c9",
   "metadata": {},
   "outputs": [
    {
     "data": {
      "text/html": [
       "<div>\n",
       "<style scoped>\n",
       "    .dataframe tbody tr th:only-of-type {\n",
       "        vertical-align: middle;\n",
       "    }\n",
       "\n",
       "    .dataframe tbody tr th {\n",
       "        vertical-align: top;\n",
       "    }\n",
       "\n",
       "    .dataframe thead th {\n",
       "        text-align: right;\n",
       "    }\n",
       "</style>\n",
       "<table border=\"1\" class=\"dataframe\">\n",
       "  <thead>\n",
       "    <tr style=\"text-align: right;\">\n",
       "      <th></th>\n",
       "      <th>entity</th>\n",
       "      <th>code</th>\n",
       "      <th>year</th>\n",
       "      <th>internet_users_per_100</th>\n",
       "    </tr>\n",
       "  </thead>\n",
       "  <tbody>\n",
       "    <tr>\n",
       "      <th>0</th>\n",
       "      <td>Afghanistan</td>\n",
       "      <td>AFG</td>\n",
       "      <td>1990</td>\n",
       "      <td>0.0</td>\n",
       "    </tr>\n",
       "    <tr>\n",
       "      <th>1</th>\n",
       "      <td>Afghanistan</td>\n",
       "      <td>AFG</td>\n",
       "      <td>1991</td>\n",
       "      <td>0.0</td>\n",
       "    </tr>\n",
       "    <tr>\n",
       "      <th>2</th>\n",
       "      <td>Afghanistan</td>\n",
       "      <td>AFG</td>\n",
       "      <td>1992</td>\n",
       "      <td>0.0</td>\n",
       "    </tr>\n",
       "    <tr>\n",
       "      <th>3</th>\n",
       "      <td>Afghanistan</td>\n",
       "      <td>AFG</td>\n",
       "      <td>1993</td>\n",
       "      <td>0.0</td>\n",
       "    </tr>\n",
       "    <tr>\n",
       "      <th>4</th>\n",
       "      <td>Afghanistan</td>\n",
       "      <td>AFG</td>\n",
       "      <td>1994</td>\n",
       "      <td>0.0</td>\n",
       "    </tr>\n",
       "  </tbody>\n",
       "</table>\n",
       "</div>"
      ],
      "text/plain": [
       "        entity code  year  internet_users_per_100\n",
       "0  Afghanistan  AFG  1990                     0.0\n",
       "1  Afghanistan  AFG  1991                     0.0\n",
       "2  Afghanistan  AFG  1992                     0.0\n",
       "3  Afghanistan  AFG  1993                     0.0\n",
       "4  Afghanistan  AFG  1994                     0.0"
      ]
     },
     "execution_count": 1,
     "metadata": {},
     "output_type": "execute_result"
    }
   ],
   "source": [
    "# Import relevant libraries\n",
    "import pandas as pd\n",
    "\n",
    "# Import internet dataset and preview first few rows\n",
    "internet = pd.read_csv('internet.csv')\n",
    "internet.head()"
   ]
  },
  {
   "cell_type": "markdown",
   "id": "997ef4f1",
   "metadata": {},
   "source": [
    "<details>\n",
    "    <summary style=\"display:list-item; font-size:16px; color:blue;\"><i>What is the structure of this dataset? Toggle to check!</i></summary>\n",
    "\n",
    "Each row of the dataset records the percent of a country's population that uses the internet. According to Our World in Data, a person is defined as an `internet user` by the International Telecommunication Union if they accessed the internet from any location in the last three months.\n",
    "\n",
    "The columns of the dataset are\n",
    "- `entity`, the name of the country, region, or income bracket\n",
    "- `code`, the three-letter country code\n",
    "- `year`, the year\n",
    "- `internet_users_per_100`, the number of internet users for every 100 people in the entity's population\n",
    "\n",
    "Note that we have already trimmed the source dataset to 1990-2019.\n",
    "</details>"
   ]
  },
  {
   "cell_type": "markdown",
   "id": "ef8adb27",
   "metadata": {},
   "source": [
    " ### Task 2\n",
    "\n",
    "The column `internet_users_per_100` is well-named, but let's shorten it.\n",
    "\n",
    "Clean the dataset by updating the column name `internet_users_per_100` to `percent_online`. Print out `.info()` after doing so. Are there any incorrect data types or missing data issues to be concerned about before diving in?"
   ]
  },
  {
   "cell_type": "code",
   "execution_count": 2,
   "id": "4115d085",
   "metadata": {},
   "outputs": [
    {
     "name": "stdout",
     "output_type": "stream",
     "text": [
      "<class 'pandas.core.frame.DataFrame'>\n",
      "RangeIndex: 6367 entries, 0 to 6366\n",
      "Data columns (total 4 columns):\n",
      " #   Column          Non-Null Count  Dtype  \n",
      "---  ------          --------------  -----  \n",
      " 0   entity          6367 non-null   object \n",
      " 1   code            6367 non-null   object \n",
      " 2   year            6367 non-null   int64  \n",
      " 3   percent_online  6367 non-null   float64\n",
      "dtypes: float64(1), int64(1), object(2)\n",
      "memory usage: 199.1+ KB\n"
     ]
    }
   ],
   "source": [
    "internet = internet.rename({'internet_users_per_100':'percent_online'},axis=1)\n",
    "internet.info()"
   ]
  },
  {
   "cell_type": "markdown",
   "id": "b5ee57e9",
   "metadata": {},
   "source": [
    "## Task Group 2 - Years to Reach Mainstream Use"
   ]
  },
  {
   "cell_type": "markdown",
   "id": "fe3733bc",
   "metadata": {},
   "source": [
    "### Task 3\n",
    "\n",
    "Let's analyze how long it takes for internet use to reach the majority of people in an `entity`.\n",
    "\n",
    "Write a function that takes a `row` as input and classifies it by `percent_online`:\n",
    "- `0` should be classified as `none`\n",
    "- greater than 0 and under 25 should be classified as `few`\n",
    "- 25-50 should be classified as `some`\n",
    "- over 50 should be classified as `most`\n"
   ]
  },
  {
   "cell_type": "code",
   "execution_count": 3,
   "id": "dd6f3ce6",
   "metadata": {},
   "outputs": [],
   "source": [
    "def internet_reach(row):\n",
    "    if row == 0:\n",
    "        return 'none'\n",
    "    elif row < 25:\n",
    "        return 'few'\n",
    "    elif row > 50:\n",
    "        return 'most'\n",
    "    else:\n",
    "        return 'some'"
   ]
  },
  {
   "cell_type": "markdown",
   "id": "ee7f7ba5",
   "metadata": {},
   "source": [
    "### Task 4\n",
    "\n",
    "Create a new column named `amount` on `internet` by applying the function from Task 3 to each row."
   ]
  },
  {
   "cell_type": "code",
   "execution_count": 4,
   "id": "b1a6eb83",
   "metadata": {},
   "outputs": [
    {
     "name": "stdout",
     "output_type": "stream",
     "text": [
      "        entity code  year  percent_online amount\n",
      "0  Afghanistan  AFG  1990             0.0   none\n",
      "1  Afghanistan  AFG  1991             0.0   none\n",
      "2  Afghanistan  AFG  1992             0.0   none\n",
      "3  Afghanistan  AFG  1993             0.0   none\n",
      "4  Afghanistan  AFG  1994             0.0   none\n"
     ]
    }
   ],
   "source": [
    "internet['amount'] = internet['percent_online'].apply(internet_reach)\n",
    "print(internet.head())"
   ]
  },
  {
   "cell_type": "markdown",
   "id": "51c0224e",
   "metadata": {},
   "source": [
    "### Task 5\n",
    "\n",
    "Let's figure out the first year in our data that each entity reached each level of internet use.\n",
    "\n",
    "Pivot `internet` using\n",
    "- `year` as the values\n",
    "- `entity` and `code` as the index\n",
    "- `amount` as the column\n",
    "- `min` as the aggfunc\n",
    "\n",
    "Reset the index and save the result as `years`."
   ]
  },
  {
   "cell_type": "code",
   "execution_count": 5,
   "id": "3449069c",
   "metadata": {},
   "outputs": [
    {
     "data": {
      "text/html": [
       "<div>\n",
       "<style scoped>\n",
       "    .dataframe tbody tr th:only-of-type {\n",
       "        vertical-align: middle;\n",
       "    }\n",
       "\n",
       "    .dataframe tbody tr th {\n",
       "        vertical-align: top;\n",
       "    }\n",
       "\n",
       "    .dataframe thead th {\n",
       "        text-align: right;\n",
       "    }\n",
       "</style>\n",
       "<table border=\"1\" class=\"dataframe\">\n",
       "  <thead>\n",
       "    <tr style=\"text-align: right;\">\n",
       "      <th>amount</th>\n",
       "      <th>entity</th>\n",
       "      <th>code</th>\n",
       "      <th>few</th>\n",
       "      <th>most</th>\n",
       "      <th>none</th>\n",
       "      <th>some</th>\n",
       "    </tr>\n",
       "  </thead>\n",
       "  <tbody>\n",
       "    <tr>\n",
       "      <th>0</th>\n",
       "      <td>Afghanistan</td>\n",
       "      <td>AFG</td>\n",
       "      <td>2001.0</td>\n",
       "      <td>NaN</td>\n",
       "      <td>1990.0</td>\n",
       "      <td>NaN</td>\n",
       "    </tr>\n",
       "    <tr>\n",
       "      <th>1</th>\n",
       "      <td>Albania</td>\n",
       "      <td>ALB</td>\n",
       "      <td>1995.0</td>\n",
       "      <td>2013.0</td>\n",
       "      <td>1990.0</td>\n",
       "      <td>2009.0</td>\n",
       "    </tr>\n",
       "    <tr>\n",
       "      <th>2</th>\n",
       "      <td>Algeria</td>\n",
       "      <td>DZA</td>\n",
       "      <td>1994.0</td>\n",
       "      <td>2019.0</td>\n",
       "      <td>1990.0</td>\n",
       "      <td>2014.0</td>\n",
       "    </tr>\n",
       "    <tr>\n",
       "      <th>3</th>\n",
       "      <td>American Samoa</td>\n",
       "      <td>ASM</td>\n",
       "      <td>NaN</td>\n",
       "      <td>NaN</td>\n",
       "      <td>1990.0</td>\n",
       "      <td>NaN</td>\n",
       "    </tr>\n",
       "    <tr>\n",
       "      <th>4</th>\n",
       "      <td>Andorra</td>\n",
       "      <td>AND</td>\n",
       "      <td>1996.0</td>\n",
       "      <td>2007.0</td>\n",
       "      <td>1990.0</td>\n",
       "      <td>2004.0</td>\n",
       "    </tr>\n",
       "  </tbody>\n",
       "</table>\n",
       "</div>"
      ],
      "text/plain": [
       "amount          entity code     few    most    none    some\n",
       "0          Afghanistan  AFG  2001.0     NaN  1990.0     NaN\n",
       "1              Albania  ALB  1995.0  2013.0  1990.0  2009.0\n",
       "2              Algeria  DZA  1994.0  2019.0  1990.0  2014.0\n",
       "3       American Samoa  ASM     NaN     NaN  1990.0     NaN\n",
       "4              Andorra  AND  1996.0  2007.0  1990.0  2004.0"
      ]
     },
     "execution_count": 5,
     "metadata": {},
     "output_type": "execute_result"
    }
   ],
   "source": [
    "years = pd.pivot_table(internet,\n",
    "               index=['entity','code'],\n",
    "               columns='amount',\n",
    "               values='year',\n",
    "               aggfunc='min').reset_index()\n",
    "\n",
    "years.head()"
   ]
  },
  {
   "cell_type": "markdown",
   "id": "41603762",
   "metadata": {},
   "source": [
    "### Task 6\n",
    "\n",
    "Albania took from 1995-2009 to reach 25%+ of the country online, corresponding to 14 years. \n",
    "\n",
    "By contrast, it only took from 2009-2013, 4 years, to reach over 50%. That's over 3 times faster!\n",
    "\n",
    "Let's see if this phenomenon holds in general.\n",
    "\n",
    "Create two new columns:\n",
    "- `few2some` should be the number of years between `few` and `some`\n",
    "- `some2most` should be the number of years between `some` and `most`"
   ]
  },
  {
   "cell_type": "code",
   "execution_count": 6,
   "id": "c838ee5a",
   "metadata": {},
   "outputs": [
    {
     "data": {
      "text/html": [
       "<div>\n",
       "<style scoped>\n",
       "    .dataframe tbody tr th:only-of-type {\n",
       "        vertical-align: middle;\n",
       "    }\n",
       "\n",
       "    .dataframe tbody tr th {\n",
       "        vertical-align: top;\n",
       "    }\n",
       "\n",
       "    .dataframe thead th {\n",
       "        text-align: right;\n",
       "    }\n",
       "</style>\n",
       "<table border=\"1\" class=\"dataframe\">\n",
       "  <thead>\n",
       "    <tr style=\"text-align: right;\">\n",
       "      <th>amount</th>\n",
       "      <th>entity</th>\n",
       "      <th>code</th>\n",
       "      <th>few</th>\n",
       "      <th>most</th>\n",
       "      <th>none</th>\n",
       "      <th>some</th>\n",
       "      <th>few2some</th>\n",
       "      <th>some2most</th>\n",
       "    </tr>\n",
       "  </thead>\n",
       "  <tbody>\n",
       "    <tr>\n",
       "      <th>0</th>\n",
       "      <td>Afghanistan</td>\n",
       "      <td>AFG</td>\n",
       "      <td>2001.0</td>\n",
       "      <td>NaN</td>\n",
       "      <td>1990.0</td>\n",
       "      <td>NaN</td>\n",
       "      <td>NaN</td>\n",
       "      <td>NaN</td>\n",
       "    </tr>\n",
       "    <tr>\n",
       "      <th>1</th>\n",
       "      <td>Albania</td>\n",
       "      <td>ALB</td>\n",
       "      <td>1995.0</td>\n",
       "      <td>2013.0</td>\n",
       "      <td>1990.0</td>\n",
       "      <td>2009.0</td>\n",
       "      <td>14.0</td>\n",
       "      <td>4.0</td>\n",
       "    </tr>\n",
       "    <tr>\n",
       "      <th>2</th>\n",
       "      <td>Algeria</td>\n",
       "      <td>DZA</td>\n",
       "      <td>1994.0</td>\n",
       "      <td>2019.0</td>\n",
       "      <td>1990.0</td>\n",
       "      <td>2014.0</td>\n",
       "      <td>20.0</td>\n",
       "      <td>5.0</td>\n",
       "    </tr>\n",
       "    <tr>\n",
       "      <th>3</th>\n",
       "      <td>American Samoa</td>\n",
       "      <td>ASM</td>\n",
       "      <td>NaN</td>\n",
       "      <td>NaN</td>\n",
       "      <td>1990.0</td>\n",
       "      <td>NaN</td>\n",
       "      <td>NaN</td>\n",
       "      <td>NaN</td>\n",
       "    </tr>\n",
       "    <tr>\n",
       "      <th>4</th>\n",
       "      <td>Andorra</td>\n",
       "      <td>AND</td>\n",
       "      <td>1996.0</td>\n",
       "      <td>2007.0</td>\n",
       "      <td>1990.0</td>\n",
       "      <td>2004.0</td>\n",
       "      <td>8.0</td>\n",
       "      <td>3.0</td>\n",
       "    </tr>\n",
       "  </tbody>\n",
       "</table>\n",
       "</div>"
      ],
      "text/plain": [
       "amount          entity code     few    most    none    some  few2some  \\\n",
       "0          Afghanistan  AFG  2001.0     NaN  1990.0     NaN       NaN   \n",
       "1              Albania  ALB  1995.0  2013.0  1990.0  2009.0      14.0   \n",
       "2              Algeria  DZA  1994.0  2019.0  1990.0  2014.0      20.0   \n",
       "3       American Samoa  ASM     NaN     NaN  1990.0     NaN       NaN   \n",
       "4              Andorra  AND  1996.0  2007.0  1990.0  2004.0       8.0   \n",
       "\n",
       "amount  some2most  \n",
       "0             NaN  \n",
       "1             4.0  \n",
       "2             5.0  \n",
       "3             NaN  \n",
       "4             3.0  "
      ]
     },
     "execution_count": 6,
     "metadata": {},
     "output_type": "execute_result"
    }
   ],
   "source": [
    "years['few2some'] = years['some'] - years['few']\n",
    "years['some2most'] = years['most'] - years['some']\n",
    "years.head()"
   ]
  },
  {
   "cell_type": "markdown",
   "id": "edd45867",
   "metadata": {},
   "source": [
    "### Task 7\n",
    "\n",
    "Print out the average of `few2some` and the average of `some2most`."
   ]
  },
  {
   "cell_type": "code",
   "execution_count": 7,
   "id": "fd185b70",
   "metadata": {},
   "outputs": [
    {
     "name": "stdout",
     "output_type": "stream",
     "text": [
      "Average of few2some 14.065573770491802 and average of some2most 4.943262411347518\n"
     ]
    }
   ],
   "source": [
    "avg_few2some = years['few2some'].mean()\n",
    "avg_some2most = years['some2most'].mean()\n",
    "print(f\"Average of few2some {avg_few2some} and average of some2most {avg_some2most}\")"
   ]
  },
  {
   "cell_type": "markdown",
   "id": "b712015e",
   "metadata": {},
   "source": [
    "<details>\n",
    "    <summary style=\"display:list-item; font-size:16px; color:blue;\"><i>What did we learn about the spread of internet use? Toggle to check!</i></summary>\n",
    "\n",
    "Of the countries in the dataset that have passed the 25% threshold, it takes on average `14` years to go from non-zero internet use to over `25%`. But then, for countries that pass 25% it takes only `5` more years on average to reach a majority of the country.\n",
    "    \n",
    "There are some ways that this analysis could be improved. If a country \"passes\" 25% by jumping suddenly to 45%, for example, it wouldn't be surprising that it takes less time to pass 50%. Think about how you could refine our analysis to take this into account!\n",
    "</details>"
   ]
  },
  {
   "cell_type": "markdown",
   "id": "74cb94ba",
   "metadata": {},
   "source": [
    "### Task 8\n",
    "\n",
    "This dataset includes some rows that correspond to broader geographic regions and income brackets, not just countries. These are labeled `CAT` in the `code` column.\n",
    "\n",
    "Display `years` filtered to rows where `code` is `CAT`. Sort by `few2some`, ascending."
   ]
  },
  {
   "cell_type": "code",
   "execution_count": 8,
   "id": "19805f0b",
   "metadata": {},
   "outputs": [
    {
     "name": "stdout",
     "output_type": "stream",
     "text": [
      "amount                        entity code     few    most    none    some  \\\n",
      "151                    North America  CAT  1990.0  2001.0     NaN  1998.0   \n",
      "87                       High income  CAT  1990.0  2004.0     NaN  2000.0   \n",
      "66                    European Union  CAT  1990.0  2006.0     NaN  2002.0   \n",
      "65           Europe and Central Asia  CAT  1990.0  2009.0     NaN  2003.0   \n",
      "109      Latin America and Caribbean  CAT  1991.0  2015.0  1990.0  2008.0   \n",
      "56             East Asia and Pacific  CAT  1990.0  2016.0     NaN  2008.0   \n",
      "218              Upper middle income  CAT  1991.0  2015.0  1990.0  2009.0   \n",
      "133     Middle East and North Africa  CAT  1990.0  2016.0     NaN  2010.0   \n",
      "117            Low and middle income  CAT  1991.0     NaN  1990.0  2012.0   \n",
      "134                    Middle income  CAT  1991.0     NaN  1990.0  2012.0   \n",
      "119              Lower middle income  CAT  1992.0     NaN  1990.0  2017.0   \n",
      "189                       South Asia  CAT  1992.0     NaN  1990.0  2019.0   \n",
      "194               Sub-Saharan Africa  CAT  1991.0     NaN  1990.0  2019.0   \n",
      "118                       Low income  CAT  1994.0     NaN  1990.0     NaN   \n",
      "\n",
      "amount  few2some  some2most  \n",
      "151          8.0        3.0  \n",
      "87          10.0        4.0  \n",
      "66          12.0        4.0  \n",
      "65          13.0        6.0  \n",
      "109         17.0        7.0  \n",
      "56          18.0        8.0  \n",
      "218         18.0        6.0  \n",
      "133         20.0        6.0  \n",
      "117         21.0        NaN  \n",
      "134         21.0        NaN  \n",
      "119         25.0        NaN  \n",
      "189         27.0        NaN  \n",
      "194         28.0        NaN  \n",
      "118          NaN        NaN  \n"
     ]
    }
   ],
   "source": [
    "filtered_years = years[years['code'] == 'CAT'].sort_values(by='few2some', ascending=True)\n",
    "print(filtered_years)"
   ]
  },
  {
   "cell_type": "markdown",
   "id": "091bafdc",
   "metadata": {},
   "source": [
    "<details>\n",
    "    <summary style=\"display:list-item; font-size:16px; color:blue;\"><i>What did we learn about the spread of internet use? Toggle to check!</i></summary>\n",
    "\n",
    "Perhaps unsurprisingly, we see a pretty strong disparity in internet use. The global north and higher income brackets tend to have reached the `most` category fairly quickly. At least in this data, low/middle income brackets and southern regions like South Asia have yet to reach the `most` category, and take the longest to go from `few` to `some`.\n",
    "</details>"
   ]
  },
  {
   "cell_type": "markdown",
   "id": "232579b7",
   "metadata": {},
   "source": [
    "## Task Group 3 - Growth by Decade"
   ]
  },
  {
   "cell_type": "markdown",
   "id": "7b69dd88",
   "metadata": {},
   "source": [
    "### Task 9\n",
    "\n",
    "Let's return to our original `internet` dataset and investigate how quickly internet use has increased over the decades. \n",
    "\n",
    "Note that we don't have full data for all countries. For example, for Nauru we only have one year of data in the 2000s and two years of data in the 2010s. For this project, we'll use the rough approximation of analyzing growth over the years we do have, but to make any strong scientific conclusions we'd want to refine this analysis.\n",
    "\n",
    "Most of the missing years are in the 1990s, so start by filtering the DataFrame down to only years past 1999."
   ]
  },
  {
   "cell_type": "code",
   "execution_count": 18,
   "id": "aa59b736",
   "metadata": {},
   "outputs": [
    {
     "data": {
      "text/html": [
       "<div>\n",
       "<style scoped>\n",
       "    .dataframe tbody tr th:only-of-type {\n",
       "        vertical-align: middle;\n",
       "    }\n",
       "\n",
       "    .dataframe tbody tr th {\n",
       "        vertical-align: top;\n",
       "    }\n",
       "\n",
       "    .dataframe thead th {\n",
       "        text-align: right;\n",
       "    }\n",
       "</style>\n",
       "<table border=\"1\" class=\"dataframe\">\n",
       "  <thead>\n",
       "    <tr style=\"text-align: right;\">\n",
       "      <th></th>\n",
       "      <th>entity</th>\n",
       "      <th>code</th>\n",
       "      <th>year</th>\n",
       "      <th>percent_online</th>\n",
       "      <th>amount</th>\n",
       "    </tr>\n",
       "  </thead>\n",
       "  <tbody>\n",
       "    <tr>\n",
       "      <th>6</th>\n",
       "      <td>Afghanistan</td>\n",
       "      <td>AFG</td>\n",
       "      <td>2001</td>\n",
       "      <td>0.004723</td>\n",
       "      <td>few</td>\n",
       "    </tr>\n",
       "    <tr>\n",
       "      <th>7</th>\n",
       "      <td>Afghanistan</td>\n",
       "      <td>AFG</td>\n",
       "      <td>2002</td>\n",
       "      <td>0.004561</td>\n",
       "      <td>few</td>\n",
       "    </tr>\n",
       "    <tr>\n",
       "      <th>8</th>\n",
       "      <td>Afghanistan</td>\n",
       "      <td>AFG</td>\n",
       "      <td>2003</td>\n",
       "      <td>0.087891</td>\n",
       "      <td>few</td>\n",
       "    </tr>\n",
       "    <tr>\n",
       "      <th>9</th>\n",
       "      <td>Afghanistan</td>\n",
       "      <td>AFG</td>\n",
       "      <td>2004</td>\n",
       "      <td>0.105809</td>\n",
       "      <td>few</td>\n",
       "    </tr>\n",
       "    <tr>\n",
       "      <th>10</th>\n",
       "      <td>Afghanistan</td>\n",
       "      <td>AFG</td>\n",
       "      <td>2005</td>\n",
       "      <td>1.224148</td>\n",
       "      <td>few</td>\n",
       "    </tr>\n",
       "  </tbody>\n",
       "</table>\n",
       "</div>"
      ],
      "text/plain": [
       "         entity code  year  percent_online amount\n",
       "6   Afghanistan  AFG  2001        0.004723    few\n",
       "7   Afghanistan  AFG  2002        0.004561    few\n",
       "8   Afghanistan  AFG  2003        0.087891    few\n",
       "9   Afghanistan  AFG  2004        0.105809    few\n",
       "10  Afghanistan  AFG  2005        1.224148    few"
      ]
     },
     "execution_count": 18,
     "metadata": {},
     "output_type": "execute_result"
    }
   ],
   "source": [
    "internet = internet[internet['year'] > 1999]\n",
    "internet.head()"
   ]
  },
  {
   "cell_type": "markdown",
   "id": "983afe6f",
   "metadata": {},
   "source": [
    "### Task 10\n",
    "\n",
    "Now let's add decade information!\n",
    "\n",
    "Create a function named `decader` that takes a `row` as input and outputs the decade corresponding to `row['year']`.\n",
    "\n",
    "The format for the decade should be as follows:\n",
    "\n",
    "- the years `2000-2009` inclusive should have decade `2000s`\n",
    "- the years `2010-2019` inclusive should have decade `2010s`"
   ]
  },
  {
   "cell_type": "code",
   "execution_count": 21,
   "id": "b706eb52",
   "metadata": {},
   "outputs": [
    {
     "data": {
      "text/plain": [
       "'2000s'"
      ]
     },
     "execution_count": 21,
     "metadata": {},
     "output_type": "execute_result"
    }
   ],
   "source": [
    "def decader(row):\n",
    "    decade = str(row['year'])\n",
    "    decade= decade[0:3]+'0s'\n",
    "    return decade\n",
    "\n",
    "# Test the function by checking for first row\n",
    "decader(internet.iloc[0,:])"
   ]
  },
  {
   "cell_type": "markdown",
   "id": "225fd187",
   "metadata": {},
   "source": [
    "### Task 11\n",
    "\n",
    "Use `.apply()` to create a new column `decade` that stores decade information for each row."
   ]
  },
  {
   "cell_type": "code",
   "execution_count": 22,
   "id": "a71017cd",
   "metadata": {},
   "outputs": [
    {
     "data": {
      "text/html": [
       "<div>\n",
       "<style scoped>\n",
       "    .dataframe tbody tr th:only-of-type {\n",
       "        vertical-align: middle;\n",
       "    }\n",
       "\n",
       "    .dataframe tbody tr th {\n",
       "        vertical-align: top;\n",
       "    }\n",
       "\n",
       "    .dataframe thead th {\n",
       "        text-align: right;\n",
       "    }\n",
       "</style>\n",
       "<table border=\"1\" class=\"dataframe\">\n",
       "  <thead>\n",
       "    <tr style=\"text-align: right;\">\n",
       "      <th></th>\n",
       "      <th>entity</th>\n",
       "      <th>code</th>\n",
       "      <th>year</th>\n",
       "      <th>percent_online</th>\n",
       "      <th>amount</th>\n",
       "      <th>decade</th>\n",
       "    </tr>\n",
       "  </thead>\n",
       "  <tbody>\n",
       "    <tr>\n",
       "      <th>6</th>\n",
       "      <td>Afghanistan</td>\n",
       "      <td>AFG</td>\n",
       "      <td>2001</td>\n",
       "      <td>0.004723</td>\n",
       "      <td>few</td>\n",
       "      <td>2000s</td>\n",
       "    </tr>\n",
       "    <tr>\n",
       "      <th>7</th>\n",
       "      <td>Afghanistan</td>\n",
       "      <td>AFG</td>\n",
       "      <td>2002</td>\n",
       "      <td>0.004561</td>\n",
       "      <td>few</td>\n",
       "      <td>2000s</td>\n",
       "    </tr>\n",
       "    <tr>\n",
       "      <th>8</th>\n",
       "      <td>Afghanistan</td>\n",
       "      <td>AFG</td>\n",
       "      <td>2003</td>\n",
       "      <td>0.087891</td>\n",
       "      <td>few</td>\n",
       "      <td>2000s</td>\n",
       "    </tr>\n",
       "    <tr>\n",
       "      <th>9</th>\n",
       "      <td>Afghanistan</td>\n",
       "      <td>AFG</td>\n",
       "      <td>2004</td>\n",
       "      <td>0.105809</td>\n",
       "      <td>few</td>\n",
       "      <td>2000s</td>\n",
       "    </tr>\n",
       "    <tr>\n",
       "      <th>10</th>\n",
       "      <td>Afghanistan</td>\n",
       "      <td>AFG</td>\n",
       "      <td>2005</td>\n",
       "      <td>1.224148</td>\n",
       "      <td>few</td>\n",
       "      <td>2000s</td>\n",
       "    </tr>\n",
       "  </tbody>\n",
       "</table>\n",
       "</div>"
      ],
      "text/plain": [
       "         entity code  year  percent_online amount decade\n",
       "6   Afghanistan  AFG  2001        0.004723    few  2000s\n",
       "7   Afghanistan  AFG  2002        0.004561    few  2000s\n",
       "8   Afghanistan  AFG  2003        0.087891    few  2000s\n",
       "9   Afghanistan  AFG  2004        0.105809    few  2000s\n",
       "10  Afghanistan  AFG  2005        1.224148    few  2000s"
      ]
     },
     "execution_count": 22,
     "metadata": {},
     "output_type": "execute_result"
    }
   ],
   "source": [
    "internet['decade'] = internet.apply(decader,axis=1)\n",
    "internet.head()"
   ]
  },
  {
   "cell_type": "markdown",
   "id": "e27c34af",
   "metadata": {},
   "source": [
    "### Task 12\n",
    "\n",
    "Now, let's write a function to calculate how much internet use has changed over a sequence of years.\n",
    "\n",
    "Write a function `change` that takes a DataFrame `column` as input.\n",
    "\n",
    "If the `len(column)` is `1` (that is, the column has only one entry), return that entry (`.iloc[0]`)\n",
    "\n",
    "Otherwise, return the difference between the last entry (`.iloc[-1]`) and the first entry (`.iloc[0]`)."
   ]
  },
  {
   "cell_type": "code",
   "execution_count": 23,
   "id": "5d249a7d",
   "metadata": {},
   "outputs": [],
   "source": [
    "def change(column):\n",
    "    if len(column) == 1:\n",
    "        return column.iloc[0]\n",
    "    else:\n",
    "        return(column.iloc[-1] - column.iloc[0])"
   ]
  },
  {
   "cell_type": "markdown",
   "id": "df22b5ff",
   "metadata": {},
   "source": [
    "### Task 13\n",
    "\n",
    "In order for `change` to compute the change from the start of a decade to its end, we need the years to be in order, so that the last entry of the column is the latest year of the decade in the dataset.\n",
    "\n",
    "Sort `internet` by `year`, ascending."
   ]
  },
  {
   "cell_type": "code",
   "execution_count": 25,
   "id": "5ec0b2a1",
   "metadata": {},
   "outputs": [
    {
     "data": {
      "text/html": [
       "<div>\n",
       "<style scoped>\n",
       "    .dataframe tbody tr th:only-of-type {\n",
       "        vertical-align: middle;\n",
       "    }\n",
       "\n",
       "    .dataframe tbody tr th {\n",
       "        vertical-align: top;\n",
       "    }\n",
       "\n",
       "    .dataframe thead th {\n",
       "        text-align: right;\n",
       "    }\n",
       "</style>\n",
       "<table border=\"1\" class=\"dataframe\">\n",
       "  <thead>\n",
       "    <tr style=\"text-align: right;\">\n",
       "      <th></th>\n",
       "      <th>entity</th>\n",
       "      <th>code</th>\n",
       "      <th>year</th>\n",
       "      <th>percent_online</th>\n",
       "      <th>amount</th>\n",
       "      <th>decade</th>\n",
       "    </tr>\n",
       "  </thead>\n",
       "  <tbody>\n",
       "    <tr>\n",
       "      <th>4993</th>\n",
       "      <td>Saudi Arabia</td>\n",
       "      <td>SAU</td>\n",
       "      <td>2000</td>\n",
       "      <td>2.210692</td>\n",
       "      <td>few</td>\n",
       "      <td>2000s</td>\n",
       "    </tr>\n",
       "    <tr>\n",
       "      <th>5454</th>\n",
       "      <td>Sudan</td>\n",
       "      <td>SDN</td>\n",
       "      <td>2000</td>\n",
       "      <td>0.025785</td>\n",
       "      <td>few</td>\n",
       "      <td>2000s</td>\n",
       "    </tr>\n",
       "    <tr>\n",
       "      <th>2905</th>\n",
       "      <td>Kazakhstan</td>\n",
       "      <td>KAZ</td>\n",
       "      <td>2000</td>\n",
       "      <td>0.668594</td>\n",
       "      <td>few</td>\n",
       "      <td>2000s</td>\n",
       "    </tr>\n",
       "    <tr>\n",
       "      <th>2462</th>\n",
       "      <td>High income</td>\n",
       "      <td>CAT</td>\n",
       "      <td>2000</td>\n",
       "      <td>30.545069</td>\n",
       "      <td>some</td>\n",
       "      <td>2000s</td>\n",
       "    </tr>\n",
       "    <tr>\n",
       "      <th>5424</th>\n",
       "      <td>Sub-Saharan Africa</td>\n",
       "      <td>CAT</td>\n",
       "      <td>2000</td>\n",
       "      <td>0.500951</td>\n",
       "      <td>few</td>\n",
       "      <td>2000s</td>\n",
       "    </tr>\n",
       "  </tbody>\n",
       "</table>\n",
       "</div>"
      ],
      "text/plain": [
       "                  entity code  year  percent_online amount decade\n",
       "4993        Saudi Arabia  SAU  2000        2.210692    few  2000s\n",
       "5454               Sudan  SDN  2000        0.025785    few  2000s\n",
       "2905          Kazakhstan  KAZ  2000        0.668594    few  2000s\n",
       "2462         High income  CAT  2000       30.545069   some  2000s\n",
       "5424  Sub-Saharan Africa  CAT  2000        0.500951    few  2000s"
      ]
     },
     "execution_count": 25,
     "metadata": {},
     "output_type": "execute_result"
    }
   ],
   "source": [
    "internet = internet.sort_values(by='year', ascending=True)\n",
    "internet.head()"
   ]
  },
  {
   "cell_type": "markdown",
   "id": "38e8b4df",
   "metadata": {},
   "source": [
    "### Task 14\n",
    "\n",
    "Let's apply `change` to calculate how much the internet has grown over each decade. At the same time, let's calculate the first and last year of data for each country, so we can know how many years it took for that change to occur.\n",
    "\n",
    "Group `internet` by `entity` and `decade`. Using `.agg`:\n",
    "\n",
    "- apply `change` to `percent_online`\n",
    "- apply `['min','max']` to `year`\n",
    "\n",
    "Assign the result to the variable `decade_growth`, and reset the index."
   ]
  },
  {
   "cell_type": "code",
   "execution_count": 31,
   "id": "fd1b127b",
   "metadata": {},
   "outputs": [
    {
     "data": {
      "text/html": [
       "<div>\n",
       "<style scoped>\n",
       "    .dataframe tbody tr th:only-of-type {\n",
       "        vertical-align: middle;\n",
       "    }\n",
       "\n",
       "    .dataframe tbody tr th {\n",
       "        vertical-align: top;\n",
       "    }\n",
       "\n",
       "    .dataframe thead tr th {\n",
       "        text-align: left;\n",
       "    }\n",
       "</style>\n",
       "<table border=\"1\" class=\"dataframe\">\n",
       "  <thead>\n",
       "    <tr>\n",
       "      <th></th>\n",
       "      <th>entity</th>\n",
       "      <th>decade</th>\n",
       "      <th>percent_online</th>\n",
       "      <th colspan=\"2\" halign=\"left\">year</th>\n",
       "    </tr>\n",
       "    <tr>\n",
       "      <th></th>\n",
       "      <th></th>\n",
       "      <th></th>\n",
       "      <th>change</th>\n",
       "      <th>min</th>\n",
       "      <th>max</th>\n",
       "    </tr>\n",
       "  </thead>\n",
       "  <tbody>\n",
       "    <tr>\n",
       "      <th>0</th>\n",
       "      <td>Afghanistan</td>\n",
       "      <td>2000s</td>\n",
       "      <td>3.545277</td>\n",
       "      <td>2001</td>\n",
       "      <td>2009</td>\n",
       "    </tr>\n",
       "    <tr>\n",
       "      <th>1</th>\n",
       "      <td>Afghanistan</td>\n",
       "      <td>2010s</td>\n",
       "      <td>13.600000</td>\n",
       "      <td>2010</td>\n",
       "      <td>2019</td>\n",
       "    </tr>\n",
       "    <tr>\n",
       "      <th>2</th>\n",
       "      <td>Albania</td>\n",
       "      <td>2000s</td>\n",
       "      <td>41.085903</td>\n",
       "      <td>2000</td>\n",
       "      <td>2009</td>\n",
       "    </tr>\n",
       "    <tr>\n",
       "      <th>3</th>\n",
       "      <td>Albania</td>\n",
       "      <td>2010s</td>\n",
       "      <td>23.550392</td>\n",
       "      <td>2010</td>\n",
       "      <td>2019</td>\n",
       "    </tr>\n",
       "    <tr>\n",
       "      <th>4</th>\n",
       "      <td>Algeria</td>\n",
       "      <td>2000s</td>\n",
       "      <td>10.738294</td>\n",
       "      <td>2000</td>\n",
       "      <td>2009</td>\n",
       "    </tr>\n",
       "  </tbody>\n",
       "</table>\n",
       "</div>"
      ],
      "text/plain": [
       "        entity decade percent_online  year      \n",
       "                              change   min   max\n",
       "0  Afghanistan  2000s       3.545277  2001  2009\n",
       "1  Afghanistan  2010s      13.600000  2010  2019\n",
       "2      Albania  2000s      41.085903  2000  2009\n",
       "3      Albania  2010s      23.550392  2010  2019\n",
       "4      Algeria  2000s      10.738294  2000  2009"
      ]
     },
     "execution_count": 31,
     "metadata": {},
     "output_type": "execute_result"
    }
   ],
   "source": [
    "decade_growth = internet.groupby(['entity','decade']).agg(\n",
    "    {'percent_online':change,\n",
    "     'year': ['min','max']}).reset_index()\n",
    "decade_growth.head()"
   ]
  },
  {
   "cell_type": "markdown",
   "id": "00e27200",
   "metadata": {},
   "source": [
    "### Task 15\n",
    "\n",
    "Let's flatten the columns of this new DataFrame.\n",
    "\n",
    "Reassign `.columns` using the names `['entity','decade','change','min','max']`"
   ]
  },
  {
   "cell_type": "code",
   "execution_count": 32,
   "id": "5a34ccac",
   "metadata": {},
   "outputs": [
    {
     "data": {
      "text/html": [
       "<div>\n",
       "<style scoped>\n",
       "    .dataframe tbody tr th:only-of-type {\n",
       "        vertical-align: middle;\n",
       "    }\n",
       "\n",
       "    .dataframe tbody tr th {\n",
       "        vertical-align: top;\n",
       "    }\n",
       "\n",
       "    .dataframe thead th {\n",
       "        text-align: right;\n",
       "    }\n",
       "</style>\n",
       "<table border=\"1\" class=\"dataframe\">\n",
       "  <thead>\n",
       "    <tr style=\"text-align: right;\">\n",
       "      <th></th>\n",
       "      <th>entity</th>\n",
       "      <th>decade</th>\n",
       "      <th>change</th>\n",
       "      <th>min</th>\n",
       "      <th>max</th>\n",
       "    </tr>\n",
       "  </thead>\n",
       "  <tbody>\n",
       "    <tr>\n",
       "      <th>0</th>\n",
       "      <td>Afghanistan</td>\n",
       "      <td>2000s</td>\n",
       "      <td>3.545277</td>\n",
       "      <td>2001</td>\n",
       "      <td>2009</td>\n",
       "    </tr>\n",
       "    <tr>\n",
       "      <th>1</th>\n",
       "      <td>Afghanistan</td>\n",
       "      <td>2010s</td>\n",
       "      <td>13.600000</td>\n",
       "      <td>2010</td>\n",
       "      <td>2019</td>\n",
       "    </tr>\n",
       "    <tr>\n",
       "      <th>2</th>\n",
       "      <td>Albania</td>\n",
       "      <td>2000s</td>\n",
       "      <td>41.085903</td>\n",
       "      <td>2000</td>\n",
       "      <td>2009</td>\n",
       "    </tr>\n",
       "    <tr>\n",
       "      <th>3</th>\n",
       "      <td>Albania</td>\n",
       "      <td>2010s</td>\n",
       "      <td>23.550392</td>\n",
       "      <td>2010</td>\n",
       "      <td>2019</td>\n",
       "    </tr>\n",
       "    <tr>\n",
       "      <th>4</th>\n",
       "      <td>Algeria</td>\n",
       "      <td>2000s</td>\n",
       "      <td>10.738294</td>\n",
       "      <td>2000</td>\n",
       "      <td>2009</td>\n",
       "    </tr>\n",
       "  </tbody>\n",
       "</table>\n",
       "</div>"
      ],
      "text/plain": [
       "        entity decade     change   min   max\n",
       "0  Afghanistan  2000s   3.545277  2001  2009\n",
       "1  Afghanistan  2010s  13.600000  2010  2019\n",
       "2      Albania  2000s  41.085903  2000  2009\n",
       "3      Albania  2010s  23.550392  2010  2019\n",
       "4      Algeria  2000s  10.738294  2000  2009"
      ]
     },
     "execution_count": 32,
     "metadata": {},
     "output_type": "execute_result"
    }
   ],
   "source": [
    "decade_growth.columns = ['entity','decade','change','min','max']\n",
    "decade_growth.head()"
   ]
  },
  {
   "cell_type": "markdown",
   "id": "74fd7c6b",
   "metadata": {},
   "source": [
    "### Task 16\n",
    "\n",
    "Let's calculate yearly growth.\n",
    "\n",
    "Add a new column `annual` by calculating `decade_growth['change']` divided by `decade_growth['max'] - decade_growth['min']`"
   ]
  },
  {
   "cell_type": "code",
   "execution_count": 34,
   "id": "bf3e2b0c",
   "metadata": {},
   "outputs": [
    {
     "data": {
      "text/html": [
       "<div>\n",
       "<style scoped>\n",
       "    .dataframe tbody tr th:only-of-type {\n",
       "        vertical-align: middle;\n",
       "    }\n",
       "\n",
       "    .dataframe tbody tr th {\n",
       "        vertical-align: top;\n",
       "    }\n",
       "\n",
       "    .dataframe thead th {\n",
       "        text-align: right;\n",
       "    }\n",
       "</style>\n",
       "<table border=\"1\" class=\"dataframe\">\n",
       "  <thead>\n",
       "    <tr style=\"text-align: right;\">\n",
       "      <th></th>\n",
       "      <th>entity</th>\n",
       "      <th>decade</th>\n",
       "      <th>change</th>\n",
       "      <th>min</th>\n",
       "      <th>max</th>\n",
       "      <th>annual</th>\n",
       "    </tr>\n",
       "  </thead>\n",
       "  <tbody>\n",
       "    <tr>\n",
       "      <th>0</th>\n",
       "      <td>Afghanistan</td>\n",
       "      <td>2000s</td>\n",
       "      <td>3.545277</td>\n",
       "      <td>2001</td>\n",
       "      <td>2009</td>\n",
       "      <td>0.443160</td>\n",
       "    </tr>\n",
       "    <tr>\n",
       "      <th>1</th>\n",
       "      <td>Afghanistan</td>\n",
       "      <td>2010s</td>\n",
       "      <td>13.600000</td>\n",
       "      <td>2010</td>\n",
       "      <td>2019</td>\n",
       "      <td>1.511111</td>\n",
       "    </tr>\n",
       "    <tr>\n",
       "      <th>2</th>\n",
       "      <td>Albania</td>\n",
       "      <td>2000s</td>\n",
       "      <td>41.085903</td>\n",
       "      <td>2000</td>\n",
       "      <td>2009</td>\n",
       "      <td>4.565100</td>\n",
       "    </tr>\n",
       "    <tr>\n",
       "      <th>3</th>\n",
       "      <td>Albania</td>\n",
       "      <td>2010s</td>\n",
       "      <td>23.550392</td>\n",
       "      <td>2010</td>\n",
       "      <td>2019</td>\n",
       "      <td>2.616710</td>\n",
       "    </tr>\n",
       "    <tr>\n",
       "      <th>4</th>\n",
       "      <td>Algeria</td>\n",
       "      <td>2000s</td>\n",
       "      <td>10.738294</td>\n",
       "      <td>2000</td>\n",
       "      <td>2009</td>\n",
       "      <td>1.193144</td>\n",
       "    </tr>\n",
       "  </tbody>\n",
       "</table>\n",
       "</div>"
      ],
      "text/plain": [
       "        entity decade     change   min   max    annual\n",
       "0  Afghanistan  2000s   3.545277  2001  2009  0.443160\n",
       "1  Afghanistan  2010s  13.600000  2010  2019  1.511111\n",
       "2      Albania  2000s  41.085903  2000  2009  4.565100\n",
       "3      Albania  2010s  23.550392  2010  2019  2.616710\n",
       "4      Algeria  2000s  10.738294  2000  2009  1.193144"
      ]
     },
     "execution_count": 34,
     "metadata": {},
     "output_type": "execute_result"
    }
   ],
   "source": [
    "decade_growth['annual'] = decade_growth['change'] / (decade_growth['max'] - decade_growth['min'])\n",
    "decade_growth.head()"
   ]
  },
  {
   "cell_type": "markdown",
   "id": "ee98c997",
   "metadata": {},
   "source": [
    "### Task 17\n",
    "\n",
    "Let's make this table a bit more human-readable by converting to wide format.\n",
    "\n",
    "Pivot `decade_growth` using\n",
    "- `annual` as the values\n",
    "- `entity` as the index\n",
    "- `decade` as the columns\n",
    "\n",
    "Assign the result back to `decade_growth`."
   ]
  },
  {
   "cell_type": "code",
   "execution_count": 35,
   "id": "123ee421",
   "metadata": {},
   "outputs": [
    {
     "data": {
      "text/html": [
       "<div>\n",
       "<style scoped>\n",
       "    .dataframe tbody tr th:only-of-type {\n",
       "        vertical-align: middle;\n",
       "    }\n",
       "\n",
       "    .dataframe tbody tr th {\n",
       "        vertical-align: top;\n",
       "    }\n",
       "\n",
       "    .dataframe thead th {\n",
       "        text-align: right;\n",
       "    }\n",
       "</style>\n",
       "<table border=\"1\" class=\"dataframe\">\n",
       "  <thead>\n",
       "    <tr style=\"text-align: right;\">\n",
       "      <th>decade</th>\n",
       "      <th>2000s</th>\n",
       "      <th>2010s</th>\n",
       "    </tr>\n",
       "    <tr>\n",
       "      <th>entity</th>\n",
       "      <th></th>\n",
       "      <th></th>\n",
       "    </tr>\n",
       "  </thead>\n",
       "  <tbody>\n",
       "    <tr>\n",
       "      <th>Afghanistan</th>\n",
       "      <td>0.443160</td>\n",
       "      <td>1.511111</td>\n",
       "    </tr>\n",
       "    <tr>\n",
       "      <th>Albania</th>\n",
       "      <td>4.565100</td>\n",
       "      <td>2.616710</td>\n",
       "    </tr>\n",
       "    <tr>\n",
       "      <th>Algeria</th>\n",
       "      <td>1.193144</td>\n",
       "      <td>5.044445</td>\n",
       "    </tr>\n",
       "    <tr>\n",
       "      <th>Andorra</th>\n",
       "      <td>7.554574</td>\n",
       "      <td>1.509638</td>\n",
       "    </tr>\n",
       "    <tr>\n",
       "      <th>Angola</th>\n",
       "      <td>0.243884</td>\n",
       "      <td>3.288889</td>\n",
       "    </tr>\n",
       "  </tbody>\n",
       "</table>\n",
       "</div>"
      ],
      "text/plain": [
       "decade          2000s     2010s\n",
       "entity                         \n",
       "Afghanistan  0.443160  1.511111\n",
       "Albania      4.565100  2.616710\n",
       "Algeria      1.193144  5.044445\n",
       "Andorra      7.554574  1.509638\n",
       "Angola       0.243884  3.288889"
      ]
     },
     "execution_count": 35,
     "metadata": {},
     "output_type": "execute_result"
    }
   ],
   "source": [
    "decade_growth = pd.pivot_table(decade_growth,\n",
    "              values='annual',\n",
    "              columns='decade',\n",
    "              index='entity'\n",
    "              )\n",
    "decade_growth.head()\n"
   ]
  },
  {
   "cell_type": "markdown",
   "id": "95ef1947",
   "metadata": {},
   "source": [
    "### Task 18\n",
    "\n",
    "Create a new column `ratio` that takes `2010s` and divides by `2000s`."
   ]
  },
  {
   "cell_type": "code",
   "execution_count": 36,
   "id": "35a41bd1",
   "metadata": {},
   "outputs": [
    {
     "data": {
      "text/html": [
       "<div>\n",
       "<style scoped>\n",
       "    .dataframe tbody tr th:only-of-type {\n",
       "        vertical-align: middle;\n",
       "    }\n",
       "\n",
       "    .dataframe tbody tr th {\n",
       "        vertical-align: top;\n",
       "    }\n",
       "\n",
       "    .dataframe thead th {\n",
       "        text-align: right;\n",
       "    }\n",
       "</style>\n",
       "<table border=\"1\" class=\"dataframe\">\n",
       "  <thead>\n",
       "    <tr style=\"text-align: right;\">\n",
       "      <th>decade</th>\n",
       "      <th>2000s</th>\n",
       "      <th>2010s</th>\n",
       "      <th>ratio</th>\n",
       "    </tr>\n",
       "    <tr>\n",
       "      <th>entity</th>\n",
       "      <th></th>\n",
       "      <th></th>\n",
       "      <th></th>\n",
       "    </tr>\n",
       "  </thead>\n",
       "  <tbody>\n",
       "    <tr>\n",
       "      <th>Afghanistan</th>\n",
       "      <td>0.443160</td>\n",
       "      <td>1.511111</td>\n",
       "      <td>3.409857</td>\n",
       "    </tr>\n",
       "    <tr>\n",
       "      <th>Albania</th>\n",
       "      <td>4.565100</td>\n",
       "      <td>2.616710</td>\n",
       "      <td>0.573199</td>\n",
       "    </tr>\n",
       "    <tr>\n",
       "      <th>Algeria</th>\n",
       "      <td>1.193144</td>\n",
       "      <td>5.044445</td>\n",
       "      <td>4.227860</td>\n",
       "    </tr>\n",
       "    <tr>\n",
       "      <th>Andorra</th>\n",
       "      <td>7.554574</td>\n",
       "      <td>1.509638</td>\n",
       "      <td>0.199831</td>\n",
       "    </tr>\n",
       "    <tr>\n",
       "      <th>Angola</th>\n",
       "      <td>0.243884</td>\n",
       "      <td>3.288889</td>\n",
       "      <td>13.485475</td>\n",
       "    </tr>\n",
       "  </tbody>\n",
       "</table>\n",
       "</div>"
      ],
      "text/plain": [
       "decade          2000s     2010s      ratio\n",
       "entity                                    \n",
       "Afghanistan  0.443160  1.511111   3.409857\n",
       "Albania      4.565100  2.616710   0.573199\n",
       "Algeria      1.193144  5.044445   4.227860\n",
       "Andorra      7.554574  1.509638   0.199831\n",
       "Angola       0.243884  3.288889  13.485475"
      ]
     },
     "execution_count": 36,
     "metadata": {},
     "output_type": "execute_result"
    }
   ],
   "source": [
    "decade_growth['ratio'] = decade_growth['2010s'] / decade_growth['2000s']\n",
    "decade_growth.head()"
   ]
  },
  {
   "cell_type": "markdown",
   "id": "68a821bb",
   "metadata": {},
   "source": [
    "### Task 19\n",
    "\n",
    "Print out descriptive statistics of the new `ratio` column. What do you notice?"
   ]
  },
  {
   "cell_type": "code",
   "execution_count": 37,
   "id": "431b9242",
   "metadata": {},
   "outputs": [
    {
     "data": {
      "text/plain": [
       "count    220.000000\n",
       "mean       5.119733\n",
       "std       14.289239\n",
       "min        0.000000\n",
       "25%        0.718154\n",
       "50%        1.579371\n",
       "75%        4.226106\n",
       "max      140.184335\n",
       "Name: ratio, dtype: float64"
      ]
     },
     "execution_count": 37,
     "metadata": {},
     "output_type": "execute_result"
    }
   ],
   "source": [
    "decade_growth['ratio'].describe()"
   ]
  },
  {
   "cell_type": "markdown",
   "id": "3f6f4d27",
   "metadata": {},
   "source": [
    "<details>\n",
    "    <summary style=\"display:list-item; font-size:16px; color:blue;\"><i>What did we learn about internet use? Toggle to check!</i></summary>\n",
    "\n",
    "On average, annual growth in the 2010s was 5 times as large as annual growth in the 2000s.\n",
    "    \n",
    "This average is being pulled up by some enormous outliers. The median is `1.5`, so half the entities in the dataset had over 1.5x more annual growth in the 2010s than the 2000s.\n",
    "    \n",
    "Interestingly, the 25th percentile is `.71`, so over 25% of countries experienced less annual growth in the 2010s than in the 2000s! This likely makes sense for countries like the USA, which had already reached a majority of the population by 2010. What other factors might cause a country to end up with slower internet growth in the 2010s than in the 2000s?\n",
    "    \n",
    "Again, for some countries we may be missing some decade information. We encourage you dig deeper into this dataset if you want to refine our analysis!\n",
    "   \n",
    "</details>"
   ]
  },
  {
   "cell_type": "markdown",
   "id": "19a97efe",
   "metadata": {},
   "source": [
    "There is so much more to discover in this dataset. Feel free to add more cells below to extend the analysis, and happy coding!"
   ]
  }
 ],
 "metadata": {
  "kernelspec": {
   "display_name": "Python 3 (ipykernel)",
   "language": "python",
   "name": "python3"
  },
  "language_info": {
   "codemirror_mode": {
    "name": "ipython",
    "version": 3
   },
   "file_extension": ".py",
   "mimetype": "text/x-python",
   "name": "python",
   "nbconvert_exporter": "python",
   "pygments_lexer": "ipython3",
   "version": "3.8.10"
  }
 },
 "nbformat": 4,
 "nbformat_minor": 5
}
